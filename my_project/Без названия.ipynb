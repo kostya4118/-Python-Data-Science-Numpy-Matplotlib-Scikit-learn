{
 "cells": [
  {
   "cell_type": "markdown",
   "id": "4eaf8961",
   "metadata": {},
   "source": [
    "# Курсовой проект"
   ]
  },
  {
   "cell_type": "markdown",
   "id": "527b712b",
   "metadata": {},
   "source": [
    "**Подключение библиотек и скриптов**"
   ]
  },
  {
   "cell_type": "code",
   "execution_count": 758,
   "id": "a8caea7c",
   "metadata": {},
   "outputs": [],
   "source": [
    "import numpy as np\n",
    "import pandas as pd\n",
    "import matplotlib\n",
    "import matplotlib.pyplot as plt\n",
    "import seaborn as sns\n",
    "%matplotlib inline"
   ]
  },
  {
   "cell_type": "markdown",
   "id": "3440f6ee",
   "metadata": {},
   "source": [
    "**Описание датасета**\n",
    "\n",
    "Статистические данные о ряде квартир.\n",
    "\n",
    "\n",
    "* **Id** - идентификационный номер квартиры\n",
    "* **DistrictId** - идентификационный номер района\n",
    "* **Rooms** - количество комнат\n",
    "* **Square** - площадь\n",
    "* **LifeSquare** - жилая площадь\n",
    "* **KitchenSquare** - площадь кухни\n",
    "* **Floor** - этаж\n",
    "* **HouseFloor** - количество этажей в доме\n",
    "* **HouseYear** - год постройки дома\n",
    "* **Ecology_1, Ecology_2, Ecology_3** - экологические показатели местности.\n",
    "* **Social_1, Social_2, Social_3** - социальные показатели местности\n",
    "* **Healthcare_1, Helthcare_2** - показатели местности, связанные с охраной здоровья\n",
    "* **Shops_1, Shops_2** - показатели, связанные с наличием магазинов, торговых центров\n",
    "* **Price** - цена квартиры"
   ]
  },
  {
   "cell_type": "code",
   "execution_count": 759,
   "id": "b2865ce1",
   "metadata": {},
   "outputs": [
    {
     "data": {
      "text/html": [
       "<div>\n",
       "<style scoped>\n",
       "    .dataframe tbody tr th:only-of-type {\n",
       "        vertical-align: middle;\n",
       "    }\n",
       "\n",
       "    .dataframe tbody tr th {\n",
       "        vertical-align: top;\n",
       "    }\n",
       "\n",
       "    .dataframe thead th {\n",
       "        text-align: right;\n",
       "    }\n",
       "</style>\n",
       "<table border=\"1\" class=\"dataframe\">\n",
       "  <thead>\n",
       "    <tr style=\"text-align: right;\">\n",
       "      <th></th>\n",
       "      <th>Id</th>\n",
       "      <th>DistrictId</th>\n",
       "      <th>Rooms</th>\n",
       "      <th>Square</th>\n",
       "      <th>LifeSquare</th>\n",
       "      <th>KitchenSquare</th>\n",
       "      <th>Floor</th>\n",
       "      <th>HouseFloor</th>\n",
       "      <th>HouseYear</th>\n",
       "      <th>Ecology_1</th>\n",
       "      <th>Ecology_2</th>\n",
       "      <th>Ecology_3</th>\n",
       "      <th>Social_1</th>\n",
       "      <th>Social_2</th>\n",
       "      <th>Social_3</th>\n",
       "      <th>Healthcare_1</th>\n",
       "      <th>Helthcare_2</th>\n",
       "      <th>Shops_1</th>\n",
       "      <th>Shops_2</th>\n",
       "      <th>Price</th>\n",
       "    </tr>\n",
       "  </thead>\n",
       "  <tbody>\n",
       "    <tr>\n",
       "      <th>0</th>\n",
       "      <td>11809</td>\n",
       "      <td>27</td>\n",
       "      <td>3.0</td>\n",
       "      <td>115.027311</td>\n",
       "      <td>NaN</td>\n",
       "      <td>10.0</td>\n",
       "      <td>4</td>\n",
       "      <td>10.0</td>\n",
       "      <td>2014</td>\n",
       "      <td>0.075424</td>\n",
       "      <td>B</td>\n",
       "      <td>B</td>\n",
       "      <td>11</td>\n",
       "      <td>3097</td>\n",
       "      <td>0</td>\n",
       "      <td>NaN</td>\n",
       "      <td>0</td>\n",
       "      <td>0</td>\n",
       "      <td>B</td>\n",
       "      <td>305018.871089</td>\n",
       "    </tr>\n",
       "    <tr>\n",
       "      <th>1</th>\n",
       "      <td>3013</td>\n",
       "      <td>22</td>\n",
       "      <td>1.0</td>\n",
       "      <td>39.832524</td>\n",
       "      <td>23.169223</td>\n",
       "      <td>8.0</td>\n",
       "      <td>7</td>\n",
       "      <td>8.0</td>\n",
       "      <td>1966</td>\n",
       "      <td>0.118537</td>\n",
       "      <td>B</td>\n",
       "      <td>B</td>\n",
       "      <td>30</td>\n",
       "      <td>6207</td>\n",
       "      <td>1</td>\n",
       "      <td>1183.0</td>\n",
       "      <td>1</td>\n",
       "      <td>0</td>\n",
       "      <td>B</td>\n",
       "      <td>177734.553407</td>\n",
       "    </tr>\n",
       "    <tr>\n",
       "      <th>2</th>\n",
       "      <td>8215</td>\n",
       "      <td>1</td>\n",
       "      <td>3.0</td>\n",
       "      <td>78.342215</td>\n",
       "      <td>47.671972</td>\n",
       "      <td>10.0</td>\n",
       "      <td>2</td>\n",
       "      <td>17.0</td>\n",
       "      <td>1988</td>\n",
       "      <td>0.025609</td>\n",
       "      <td>B</td>\n",
       "      <td>B</td>\n",
       "      <td>33</td>\n",
       "      <td>5261</td>\n",
       "      <td>0</td>\n",
       "      <td>240.0</td>\n",
       "      <td>3</td>\n",
       "      <td>1</td>\n",
       "      <td>B</td>\n",
       "      <td>282078.720850</td>\n",
       "    </tr>\n",
       "    <tr>\n",
       "      <th>3</th>\n",
       "      <td>2352</td>\n",
       "      <td>1</td>\n",
       "      <td>1.0</td>\n",
       "      <td>40.409907</td>\n",
       "      <td>NaN</td>\n",
       "      <td>1.0</td>\n",
       "      <td>10</td>\n",
       "      <td>22.0</td>\n",
       "      <td>1977</td>\n",
       "      <td>0.007122</td>\n",
       "      <td>B</td>\n",
       "      <td>B</td>\n",
       "      <td>1</td>\n",
       "      <td>264</td>\n",
       "      <td>0</td>\n",
       "      <td>NaN</td>\n",
       "      <td>0</td>\n",
       "      <td>1</td>\n",
       "      <td>B</td>\n",
       "      <td>168106.007630</td>\n",
       "    </tr>\n",
       "    <tr>\n",
       "      <th>4</th>\n",
       "      <td>13866</td>\n",
       "      <td>94</td>\n",
       "      <td>2.0</td>\n",
       "      <td>64.285067</td>\n",
       "      <td>38.562517</td>\n",
       "      <td>9.0</td>\n",
       "      <td>16</td>\n",
       "      <td>16.0</td>\n",
       "      <td>1972</td>\n",
       "      <td>0.282798</td>\n",
       "      <td>B</td>\n",
       "      <td>B</td>\n",
       "      <td>33</td>\n",
       "      <td>8667</td>\n",
       "      <td>2</td>\n",
       "      <td>NaN</td>\n",
       "      <td>0</td>\n",
       "      <td>6</td>\n",
       "      <td>B</td>\n",
       "      <td>343995.102962</td>\n",
       "    </tr>\n",
       "  </tbody>\n",
       "</table>\n",
       "</div>"
      ],
      "text/plain": [
       "      Id  DistrictId  Rooms      Square  LifeSquare  KitchenSquare  Floor  \\\n",
       "0  11809          27    3.0  115.027311         NaN           10.0      4   \n",
       "1   3013          22    1.0   39.832524   23.169223            8.0      7   \n",
       "2   8215           1    3.0   78.342215   47.671972           10.0      2   \n",
       "3   2352           1    1.0   40.409907         NaN            1.0     10   \n",
       "4  13866          94    2.0   64.285067   38.562517            9.0     16   \n",
       "\n",
       "   HouseFloor  HouseYear  Ecology_1 Ecology_2 Ecology_3  Social_1  Social_2  \\\n",
       "0        10.0       2014   0.075424         B         B        11      3097   \n",
       "1         8.0       1966   0.118537         B         B        30      6207   \n",
       "2        17.0       1988   0.025609         B         B        33      5261   \n",
       "3        22.0       1977   0.007122         B         B         1       264   \n",
       "4        16.0       1972   0.282798         B         B        33      8667   \n",
       "\n",
       "   Social_3  Healthcare_1  Helthcare_2  Shops_1 Shops_2          Price  \n",
       "0         0           NaN            0        0       B  305018.871089  \n",
       "1         1        1183.0            1        0       B  177734.553407  \n",
       "2         0         240.0            3        1       B  282078.720850  \n",
       "3         0           NaN            0        1       B  168106.007630  \n",
       "4         2           NaN            0        6       B  343995.102962  "
      ]
     },
     "execution_count": 759,
     "metadata": {},
     "output_type": "execute_result"
    }
   ],
   "source": [
    "df = pd.read_csv('train.csv')\n",
    "df.head()"
   ]
  },
  {
   "cell_type": "code",
   "execution_count": 760,
   "id": "162e64f4",
   "metadata": {},
   "outputs": [
    {
     "name": "stdout",
     "output_type": "stream",
     "text": [
      "<class 'pandas.core.frame.DataFrame'>\n",
      "RangeIndex: 10000 entries, 0 to 9999\n",
      "Data columns (total 20 columns):\n",
      " #   Column         Non-Null Count  Dtype  \n",
      "---  ------         --------------  -----  \n",
      " 0   Id             10000 non-null  int64  \n",
      " 1   DistrictId     10000 non-null  int64  \n",
      " 2   Rooms          10000 non-null  float64\n",
      " 3   Square         10000 non-null  float64\n",
      " 4   LifeSquare     7887 non-null   float64\n",
      " 5   KitchenSquare  10000 non-null  float64\n",
      " 6   Floor          10000 non-null  int64  \n",
      " 7   HouseFloor     10000 non-null  float64\n",
      " 8   HouseYear      10000 non-null  int64  \n",
      " 9   Ecology_1      10000 non-null  float64\n",
      " 10  Ecology_2      10000 non-null  object \n",
      " 11  Ecology_3      10000 non-null  object \n",
      " 12  Social_1       10000 non-null  int64  \n",
      " 13  Social_2       10000 non-null  int64  \n",
      " 14  Social_3       10000 non-null  int64  \n",
      " 15  Healthcare_1   5202 non-null   float64\n",
      " 16  Helthcare_2    10000 non-null  int64  \n",
      " 17  Shops_1        10000 non-null  int64  \n",
      " 18  Shops_2        10000 non-null  object \n",
      " 19  Price          10000 non-null  float64\n",
      "dtypes: float64(8), int64(9), object(3)\n",
      "memory usage: 1.5+ MB\n"
     ]
    }
   ],
   "source": [
    "df.info()"
   ]
  },
  {
   "cell_type": "code",
   "execution_count": 761,
   "id": "5935d46e",
   "metadata": {},
   "outputs": [
    {
     "name": "stdout",
     "output_type": "stream",
     "text": [
      "Memory usage of dataframe is 1.53 MB\n",
      "Memory usage after optimization is: 0.49 MB\n",
      "Decreased by 68.1%\n"
     ]
    }
   ],
   "source": [
    "def reduce_mem_usage(df):\n",
    "    \"\"\" iterate through all the columns of a dataframe and modify the data type\n",
    "        to reduce memory usage.        \n",
    "    \"\"\"\n",
    "    start_mem = df.memory_usage().sum() / 1024**2\n",
    "    print('Memory usage of dataframe is {:.2f} MB'.format(start_mem))\n",
    "    \n",
    "    for col in df.columns:\n",
    "        col_type = df[col].dtype\n",
    "        \n",
    "        if col_type != object:\n",
    "            c_min = df[col].min()\n",
    "            c_max = df[col].max()\n",
    "            if str(col_type)[:3] == 'int':\n",
    "                if c_min > np.iinfo(np.int8).min and c_max < np.iinfo(np.int8).max:\n",
    "                    df[col] = df[col].astype(np.int8)\n",
    "                elif c_min > np.iinfo(np.int16).min and c_max < np.iinfo(np.int16).max:\n",
    "                    df[col] = df[col].astype(np.int16)\n",
    "                elif c_min > np.iinfo(np.int32).min and c_max < np.iinfo(np.int32).max:\n",
    "                    df[col] = df[col].astype(np.int32)\n",
    "                elif c_min > np.iinfo(np.int64).min and c_max < np.iinfo(np.int64).max:\n",
    "                    df[col] = df[col].astype(np.int64)  \n",
    "            else:\n",
    "                if c_min > np.finfo(np.float32).min and c_max < np.finfo(np.float32).max:\n",
    "                    df[col] = df[col].astype(np.float32)\n",
    "                else:\n",
    "                    df[col] = df[col].astype(np.float64)\n",
    "        else:\n",
    "            df[col] = df[col].astype('category')\n",
    "\n",
    "    end_mem = df.memory_usage().sum() / 1024**2\n",
    "    print('Memory usage after optimization is: {:.2f} MB'.format(end_mem))\n",
    "    print('Decreased by {:.1f}%'.format(100 * (start_mem - end_mem) / start_mem))\n",
    "    \n",
    "    return df\n",
    "\n",
    "df = reduce_mem_usage(df)"
   ]
  },
  {
   "cell_type": "markdown",
   "id": "7e709137",
   "metadata": {},
   "source": [
    "## EDA"
   ]
  },
  {
   "cell_type": "code",
   "execution_count": 762,
   "id": "8c7fc695",
   "metadata": {},
   "outputs": [
    {
     "data": {
      "text/html": [
       "<div>\n",
       "<style scoped>\n",
       "    .dataframe tbody tr th:only-of-type {\n",
       "        vertical-align: middle;\n",
       "    }\n",
       "\n",
       "    .dataframe tbody tr th {\n",
       "        vertical-align: top;\n",
       "    }\n",
       "\n",
       "    .dataframe thead th {\n",
       "        text-align: right;\n",
       "    }\n",
       "</style>\n",
       "<table border=\"1\" class=\"dataframe\">\n",
       "  <thead>\n",
       "    <tr style=\"text-align: right;\">\n",
       "      <th></th>\n",
       "      <th>Id</th>\n",
       "      <th>DistrictId</th>\n",
       "      <th>Rooms</th>\n",
       "      <th>Square</th>\n",
       "      <th>LifeSquare</th>\n",
       "      <th>KitchenSquare</th>\n",
       "      <th>Floor</th>\n",
       "      <th>HouseFloor</th>\n",
       "      <th>HouseYear</th>\n",
       "      <th>Ecology_1</th>\n",
       "      <th>Social_1</th>\n",
       "      <th>Social_2</th>\n",
       "      <th>Social_3</th>\n",
       "      <th>Healthcare_1</th>\n",
       "      <th>Helthcare_2</th>\n",
       "      <th>Shops_1</th>\n",
       "      <th>Price</th>\n",
       "    </tr>\n",
       "  </thead>\n",
       "  <tbody>\n",
       "    <tr>\n",
       "      <th>count</th>\n",
       "      <td>10000.00000</td>\n",
       "      <td>10000.000000</td>\n",
       "      <td>10000.000000</td>\n",
       "      <td>10000.000000</td>\n",
       "      <td>7887.000000</td>\n",
       "      <td>10000.000000</td>\n",
       "      <td>10000.000000</td>\n",
       "      <td>10000.0000</td>\n",
       "      <td>1.000000e+04</td>\n",
       "      <td>10000.000000</td>\n",
       "      <td>10000.000000</td>\n",
       "      <td>10000.000000</td>\n",
       "      <td>10000.000000</td>\n",
       "      <td>5202.000000</td>\n",
       "      <td>10000.000000</td>\n",
       "      <td>10000.000000</td>\n",
       "      <td>10000.000000</td>\n",
       "    </tr>\n",
       "    <tr>\n",
       "      <th>mean</th>\n",
       "      <td>8383.40770</td>\n",
       "      <td>50.400800</td>\n",
       "      <td>1.890500</td>\n",
       "      <td>56.315720</td>\n",
       "      <td>37.199665</td>\n",
       "      <td>6.273300</td>\n",
       "      <td>8.526700</td>\n",
       "      <td>12.6094</td>\n",
       "      <td>3.990166e+03</td>\n",
       "      <td>0.118858</td>\n",
       "      <td>24.687000</td>\n",
       "      <td>5352.157400</td>\n",
       "      <td>8.039200</td>\n",
       "      <td>1142.904419</td>\n",
       "      <td>1.319500</td>\n",
       "      <td>4.231300</td>\n",
       "      <td>214138.937500</td>\n",
       "    </tr>\n",
       "    <tr>\n",
       "      <th>std</th>\n",
       "      <td>4859.01902</td>\n",
       "      <td>43.587592</td>\n",
       "      <td>0.839522</td>\n",
       "      <td>21.058716</td>\n",
       "      <td>86.241219</td>\n",
       "      <td>28.560839</td>\n",
       "      <td>5.241148</td>\n",
       "      <td>6.7762</td>\n",
       "      <td>2.005003e+05</td>\n",
       "      <td>0.119025</td>\n",
       "      <td>17.532614</td>\n",
       "      <td>4006.799803</td>\n",
       "      <td>23.831875</td>\n",
       "      <td>1021.519470</td>\n",
       "      <td>1.493601</td>\n",
       "      <td>4.806341</td>\n",
       "      <td>92872.273438</td>\n",
       "    </tr>\n",
       "    <tr>\n",
       "      <th>min</th>\n",
       "      <td>0.00000</td>\n",
       "      <td>0.000000</td>\n",
       "      <td>0.000000</td>\n",
       "      <td>1.136859</td>\n",
       "      <td>0.370619</td>\n",
       "      <td>0.000000</td>\n",
       "      <td>1.000000</td>\n",
       "      <td>0.0000</td>\n",
       "      <td>1.910000e+03</td>\n",
       "      <td>0.000000</td>\n",
       "      <td>0.000000</td>\n",
       "      <td>168.000000</td>\n",
       "      <td>0.000000</td>\n",
       "      <td>0.000000</td>\n",
       "      <td>0.000000</td>\n",
       "      <td>0.000000</td>\n",
       "      <td>59174.777344</td>\n",
       "    </tr>\n",
       "    <tr>\n",
       "      <th>25%</th>\n",
       "      <td>4169.50000</td>\n",
       "      <td>20.000000</td>\n",
       "      <td>1.000000</td>\n",
       "      <td>41.774879</td>\n",
       "      <td>22.769833</td>\n",
       "      <td>1.000000</td>\n",
       "      <td>4.000000</td>\n",
       "      <td>9.0000</td>\n",
       "      <td>1.974000e+03</td>\n",
       "      <td>0.017647</td>\n",
       "      <td>6.000000</td>\n",
       "      <td>1564.000000</td>\n",
       "      <td>0.000000</td>\n",
       "      <td>350.000000</td>\n",
       "      <td>0.000000</td>\n",
       "      <td>1.000000</td>\n",
       "      <td>153872.628906</td>\n",
       "    </tr>\n",
       "    <tr>\n",
       "      <th>50%</th>\n",
       "      <td>8394.50000</td>\n",
       "      <td>36.000000</td>\n",
       "      <td>2.000000</td>\n",
       "      <td>52.513309</td>\n",
       "      <td>32.781261</td>\n",
       "      <td>6.000000</td>\n",
       "      <td>7.000000</td>\n",
       "      <td>13.0000</td>\n",
       "      <td>1.977000e+03</td>\n",
       "      <td>0.075424</td>\n",
       "      <td>25.000000</td>\n",
       "      <td>5285.000000</td>\n",
       "      <td>2.000000</td>\n",
       "      <td>900.000000</td>\n",
       "      <td>1.000000</td>\n",
       "      <td>3.000000</td>\n",
       "      <td>192269.648438</td>\n",
       "    </tr>\n",
       "    <tr>\n",
       "      <th>75%</th>\n",
       "      <td>12592.50000</td>\n",
       "      <td>75.000000</td>\n",
       "      <td>2.000000</td>\n",
       "      <td>65.900627</td>\n",
       "      <td>45.128803</td>\n",
       "      <td>9.000000</td>\n",
       "      <td>12.000000</td>\n",
       "      <td>17.0000</td>\n",
       "      <td>2.001000e+03</td>\n",
       "      <td>0.195781</td>\n",
       "      <td>36.000000</td>\n",
       "      <td>7227.000000</td>\n",
       "      <td>5.000000</td>\n",
       "      <td>1548.000000</td>\n",
       "      <td>2.000000</td>\n",
       "      <td>6.000000</td>\n",
       "      <td>249135.460938</td>\n",
       "    </tr>\n",
       "    <tr>\n",
       "      <th>max</th>\n",
       "      <td>16798.00000</td>\n",
       "      <td>209.000000</td>\n",
       "      <td>19.000000</td>\n",
       "      <td>641.065186</td>\n",
       "      <td>7480.592285</td>\n",
       "      <td>2014.000000</td>\n",
       "      <td>42.000000</td>\n",
       "      <td>117.0000</td>\n",
       "      <td>2.005201e+07</td>\n",
       "      <td>0.521867</td>\n",
       "      <td>74.000000</td>\n",
       "      <td>19083.000000</td>\n",
       "      <td>141.000000</td>\n",
       "      <td>4849.000000</td>\n",
       "      <td>6.000000</td>\n",
       "      <td>23.000000</td>\n",
       "      <td>633233.437500</td>\n",
       "    </tr>\n",
       "  </tbody>\n",
       "</table>\n",
       "</div>"
      ],
      "text/plain": [
       "                Id    DistrictId         Rooms        Square   LifeSquare  \\\n",
       "count  10000.00000  10000.000000  10000.000000  10000.000000  7887.000000   \n",
       "mean    8383.40770     50.400800      1.890500     56.315720    37.199665   \n",
       "std     4859.01902     43.587592      0.839522     21.058716    86.241219   \n",
       "min        0.00000      0.000000      0.000000      1.136859     0.370619   \n",
       "25%     4169.50000     20.000000      1.000000     41.774879    22.769833   \n",
       "50%     8394.50000     36.000000      2.000000     52.513309    32.781261   \n",
       "75%    12592.50000     75.000000      2.000000     65.900627    45.128803   \n",
       "max    16798.00000    209.000000     19.000000    641.065186  7480.592285   \n",
       "\n",
       "       KitchenSquare         Floor  HouseFloor     HouseYear     Ecology_1  \\\n",
       "count   10000.000000  10000.000000  10000.0000  1.000000e+04  10000.000000   \n",
       "mean        6.273300      8.526700     12.6094  3.990166e+03      0.118858   \n",
       "std        28.560839      5.241148      6.7762  2.005003e+05      0.119025   \n",
       "min         0.000000      1.000000      0.0000  1.910000e+03      0.000000   \n",
       "25%         1.000000      4.000000      9.0000  1.974000e+03      0.017647   \n",
       "50%         6.000000      7.000000     13.0000  1.977000e+03      0.075424   \n",
       "75%         9.000000     12.000000     17.0000  2.001000e+03      0.195781   \n",
       "max      2014.000000     42.000000    117.0000  2.005201e+07      0.521867   \n",
       "\n",
       "           Social_1      Social_2      Social_3  Healthcare_1   Helthcare_2  \\\n",
       "count  10000.000000  10000.000000  10000.000000   5202.000000  10000.000000   \n",
       "mean      24.687000   5352.157400      8.039200   1142.904419      1.319500   \n",
       "std       17.532614   4006.799803     23.831875   1021.519470      1.493601   \n",
       "min        0.000000    168.000000      0.000000      0.000000      0.000000   \n",
       "25%        6.000000   1564.000000      0.000000    350.000000      0.000000   \n",
       "50%       25.000000   5285.000000      2.000000    900.000000      1.000000   \n",
       "75%       36.000000   7227.000000      5.000000   1548.000000      2.000000   \n",
       "max       74.000000  19083.000000    141.000000   4849.000000      6.000000   \n",
       "\n",
       "            Shops_1          Price  \n",
       "count  10000.000000   10000.000000  \n",
       "mean       4.231300  214138.937500  \n",
       "std        4.806341   92872.273438  \n",
       "min        0.000000   59174.777344  \n",
       "25%        1.000000  153872.628906  \n",
       "50%        3.000000  192269.648438  \n",
       "75%        6.000000  249135.460938  \n",
       "max       23.000000  633233.437500  "
      ]
     },
     "execution_count": 762,
     "metadata": {},
     "output_type": "execute_result"
    }
   ],
   "source": [
    "df.describe()"
   ]
  },
  {
   "cell_type": "code",
   "execution_count": 763,
   "id": "d02fa655",
   "metadata": {},
   "outputs": [
    {
     "name": "stdout",
     "output_type": "stream",
     "text": [
      "<class 'pandas.core.frame.DataFrame'>\n",
      "RangeIndex: 10000 entries, 0 to 9999\n",
      "Data columns (total 20 columns):\n",
      " #   Column         Non-Null Count  Dtype   \n",
      "---  ------         --------------  -----   \n",
      " 0   Id             10000 non-null  int16   \n",
      " 1   DistrictId     10000 non-null  int16   \n",
      " 2   Rooms          10000 non-null  float32 \n",
      " 3   Square         10000 non-null  float32 \n",
      " 4   LifeSquare     7887 non-null   float32 \n",
      " 5   KitchenSquare  10000 non-null  float32 \n",
      " 6   Floor          10000 non-null  int8    \n",
      " 7   HouseFloor     10000 non-null  float32 \n",
      " 8   HouseYear      10000 non-null  int32   \n",
      " 9   Ecology_1      10000 non-null  float32 \n",
      " 10  Ecology_2      10000 non-null  category\n",
      " 11  Ecology_3      10000 non-null  category\n",
      " 12  Social_1       10000 non-null  int8    \n",
      " 13  Social_2       10000 non-null  int16   \n",
      " 14  Social_3       10000 non-null  int16   \n",
      " 15  Healthcare_1   5202 non-null   float32 \n",
      " 16  Helthcare_2    10000 non-null  int8    \n",
      " 17  Shops_1        10000 non-null  int8    \n",
      " 18  Shops_2        10000 non-null  category\n",
      " 19  Price          10000 non-null  float32 \n",
      "dtypes: category(3), float32(8), int16(4), int32(1), int8(4)\n",
      "memory usage: 498.5 KB\n"
     ]
    }
   ],
   "source": [
    "df.info()"
   ]
  },
  {
   "cell_type": "markdown",
   "id": "24362de3",
   "metadata": {},
   "source": [
    "**Целевая переменная - Price**"
   ]
  },
  {
   "cell_type": "code",
   "execution_count": 764,
   "id": "da28054e",
   "metadata": {},
   "outputs": [
    {
     "data": {
      "image/png": "[encoded data removed]",
      "text/plain": [
       "<Figure size 864x432 with 1 Axes>"
      ]
     },
     "metadata": {
      "needs_background": "light"
     },
     "output_type": "display_data"
    }
   ],
   "source": [
    "plt.figure(figsize = (12, 6))\n",
    "\n",
    "plt.hist(df['Price'], bins=50, alpha=0.5) \n",
    "\n",
    "y = np.linspace(0, 900, 10)\n",
    "plt.plot([df['Price'].mean()] * 10, y, label='mean', linestyle=':', linewidth=4)\n",
    "plt.plot([df['Price'].median()] * 10, y, label='median', linestyle='--', linewidth=4)\n",
    "\n",
    "plt.title('Price')\n",
    "plt.legend()\n",
    "plt.show()"
   ]
  },
  {
   "cell_type": "markdown",
   "id": "7c12ecd3",
   "metadata": {},
   "source": [
    "### Анализ, приведение типов признаков и обработка выбросов."
   ]
  },
  {
   "cell_type": "markdown",
   "id": "eddffd2f",
   "metadata": {},
   "source": [
    "**id** при обработке данных не должен ни на что влиять, приведём столбец к строковому типу."
   ]
  },
  {
   "cell_type": "code",
   "execution_count": 765,
   "id": "efb215c6",
   "metadata": {},
   "outputs": [],
   "source": [
    "df.Id = df.Id.astype('str')"
   ]
  },
  {
   "cell_type": "markdown",
   "id": "03e54a71",
   "metadata": {},
   "source": [
    "Признак **DistrictId** явно категориальный. Изменим ему тип."
   ]
  },
  {
   "cell_type": "code",
   "execution_count": 766,
   "id": "15675d23",
   "metadata": {},
   "outputs": [],
   "source": [
    "df.DistrictId = df.DistrictId.astype('category')"
   ]
  },
  {
   "cell_type": "markdown",
   "id": "c60594d9",
   "metadata": {},
   "source": [
    "Посмотрим на данные об **общей площади**."
   ]
  },
  {
   "cell_type": "code",
   "execution_count": 767,
   "id": "43053060",
   "metadata": {
    "scrolled": true
   },
   "outputs": [
    {
     "data": {
      "text/plain": [
       "1.136859      1\n",
       "1.988943      1\n",
       "2.377248      1\n",
       "2.596351      1\n",
       "2.954309      1\n",
       "             ..\n",
       "212.932358    1\n",
       "275.645294    1\n",
       "409.425171    1\n",
       "604.705994    1\n",
       "641.065186    1\n",
       "Name: Square, Length: 9995, dtype: int64"
      ]
     },
     "execution_count": 767,
     "metadata": {},
     "output_type": "execute_result"
    }
   ],
   "source": [
    "df['Square'].value_counts().sort_index()"
   ]
  },
  {
   "cell_type": "code",
   "execution_count": 768,
   "id": "bc98af18",
   "metadata": {
    "scrolled": true
   },
   "outputs": [
    {
     "data": {
      "image/png": "[encoded data removed]",
      "text/plain": [
       "<Figure size 1080x360 with 2 Axes>"
      ]
     },
     "metadata": {
      "needs_background": "light"
     },
     "output_type": "display_data"
    }
   ],
   "source": [
    "fig, ax = plt.subplots(nrows=1, ncols=2)\n",
    "ax1, ax2 = ax.flatten()\n",
    "ax1.scatter(df['Square'], df['LifeSquare'])\n",
    "ax1.set_xlabel('Square')\n",
    "ax1.set_ylabel('LifeSquare')\n",
    "ax1.set_title('Соотношение общей и жилой площади')\n",
    "ax2.scatter(df['Square'], df['Price'])\n",
    "ax2.set_xlabel('Square')\n",
    "ax2.set_ylabel('Price')\n",
    "ax2.set_title('Соотношение цены и площади')\n",
    "fig.set_size_inches(15, 5)\n",
    "plt.subplots_adjust(wspace=0.3)"
   ]
  },
  {
   "cell_type": "markdown",
   "id": "358b235e",
   "metadata": {},
   "source": [
    "Слишком большие значения площади - явно ошибочны. Как и значения общей площади менее 10 кв.м. Обработаем выбросы прировняв их к медиане."
   ]
  },
  {
   "cell_type": "code",
   "execution_count": 769,
   "id": "afea1c08",
   "metadata": {},
   "outputs": [],
   "source": [
    "df.loc[(df['Square'] < 10) | (df['Square'] > 250), 'Square'] = df.Square.median()"
   ]
  },
  {
   "cell_type": "markdown",
   "id": "49456146",
   "metadata": {},
   "source": [
    "Изучим признак **KitchenSquare**."
   ]
  },
  {
   "cell_type": "code",
   "execution_count": 770,
   "id": "f0ba3061",
   "metadata": {},
   "outputs": [
    {
     "data": {
      "text/plain": [
       "0.0        697\n",
       "1.0       2460\n",
       "2.0          4\n",
       "3.0         22\n",
       "4.0         39\n",
       "5.0       1169\n",
       "6.0       1038\n",
       "7.0        609\n",
       "8.0       1306\n",
       "9.0        843\n",
       "10.0      1075\n",
       "11.0       233\n",
       "12.0       249\n",
       "13.0        67\n",
       "14.0        51\n",
       "15.0        31\n",
       "16.0        16\n",
       "17.0        12\n",
       "18.0         6\n",
       "19.0        11\n",
       "20.0        14\n",
       "21.0         1\n",
       "22.0         3\n",
       "23.0         1\n",
       "25.0         2\n",
       "26.0         1\n",
       "27.0         1\n",
       "29.0         1\n",
       "30.0         2\n",
       "31.0         1\n",
       "32.0         2\n",
       "35.0         1\n",
       "36.0         1\n",
       "37.0         2\n",
       "39.0         1\n",
       "40.0         1\n",
       "41.0         2\n",
       "42.0         1\n",
       "43.0         2\n",
       "48.0         1\n",
       "51.0         2\n",
       "53.0         1\n",
       "54.0         1\n",
       "58.0         2\n",
       "60.0         1\n",
       "62.0         1\n",
       "63.0         1\n",
       "66.0         1\n",
       "72.0         1\n",
       "73.0         1\n",
       "75.0         1\n",
       "78.0         1\n",
       "84.0         1\n",
       "96.0         1\n",
       "112.0        2\n",
       "123.0        1\n",
       "1970.0       1\n",
       "2014.0       1\n",
       "Name: KitchenSquare, dtype: int64"
      ]
     },
     "execution_count": 770,
     "metadata": {},
     "output_type": "execute_result"
    }
   ],
   "source": [
    "df['KitchenSquare'].value_counts().sort_index()"
   ]
  },
  {
   "cell_type": "markdown",
   "id": "8b69c041",
   "metadata": {},
   "source": [
    "Очень много объектов с площадью кухни менее 3 кв.м., что выглядит довольно странно. Также есть несколько квартир с нереальным параметром KitchenSquare. Прировняем аномалии к медиане."
   ]
  },
  {
   "cell_type": "code",
   "execution_count": 771,
   "id": "e57e1555",
   "metadata": {},
   "outputs": [],
   "source": [
    "df.loc[(df['KitchenSquare'] < 3) | (df['KitchenSquare'] > 30), 'KitchenSquare'] = df.KitchenSquare.median()"
   ]
  },
  {
   "cell_type": "markdown",
   "id": "ca29ec1a",
   "metadata": {},
   "source": [
    "**LifeSquare**\n",
    "\n",
    "В нашем датасете есть немало объектов, у которых площадь жилая превышает общую без площади кухни, что в принципе нереально."
   ]
  },
  {
   "cell_type": "code",
   "execution_count": 772,
   "id": "3b180e4d",
   "metadata": {
    "scrolled": true
   },
   "outputs": [
    {
     "data": {
      "text/html": [
       "<div>\n",
       "<style scoped>\n",
       "    .dataframe tbody tr th:only-of-type {\n",
       "        vertical-align: middle;\n",
       "    }\n",
       "\n",
       "    .dataframe tbody tr th {\n",
       "        vertical-align: top;\n",
       "    }\n",
       "\n",
       "    .dataframe thead th {\n",
       "        text-align: right;\n",
       "    }\n",
       "</style>\n",
       "<table border=\"1\" class=\"dataframe\">\n",
       "  <thead>\n",
       "    <tr style=\"text-align: right;\">\n",
       "      <th></th>\n",
       "      <th>Id</th>\n",
       "      <th>DistrictId</th>\n",
       "      <th>Rooms</th>\n",
       "      <th>Square</th>\n",
       "      <th>LifeSquare</th>\n",
       "      <th>KitchenSquare</th>\n",
       "      <th>Floor</th>\n",
       "      <th>HouseFloor</th>\n",
       "      <th>HouseYear</th>\n",
       "      <th>Ecology_1</th>\n",
       "      <th>Ecology_2</th>\n",
       "      <th>Ecology_3</th>\n",
       "      <th>Social_1</th>\n",
       "      <th>Social_2</th>\n",
       "      <th>Social_3</th>\n",
       "      <th>Healthcare_1</th>\n",
       "      <th>Helthcare_2</th>\n",
       "      <th>Shops_1</th>\n",
       "      <th>Shops_2</th>\n",
       "      <th>Price</th>\n",
       "    </tr>\n",
       "  </thead>\n",
       "  <tbody>\n",
       "    <tr>\n",
       "      <th>8</th>\n",
       "      <td>9951</td>\n",
       "      <td>1</td>\n",
       "      <td>1.0</td>\n",
       "      <td>46.887894</td>\n",
       "      <td>44.628132</td>\n",
       "      <td>6.0</td>\n",
       "      <td>12</td>\n",
       "      <td>20.0</td>\n",
       "      <td>1977</td>\n",
       "      <td>0.007122</td>\n",
       "      <td>B</td>\n",
       "      <td>B</td>\n",
       "      <td>1</td>\n",
       "      <td>264</td>\n",
       "      <td>0</td>\n",
       "      <td>NaN</td>\n",
       "      <td>0</td>\n",
       "      <td>1</td>\n",
       "      <td>B</td>\n",
       "      <td>160400.406250</td>\n",
       "    </tr>\n",
       "    <tr>\n",
       "      <th>9</th>\n",
       "      <td>8094</td>\n",
       "      <td>6</td>\n",
       "      <td>3.0</td>\n",
       "      <td>79.867477</td>\n",
       "      <td>75.085129</td>\n",
       "      <td>6.0</td>\n",
       "      <td>3</td>\n",
       "      <td>17.0</td>\n",
       "      <td>2014</td>\n",
       "      <td>0.243205</td>\n",
       "      <td>B</td>\n",
       "      <td>B</td>\n",
       "      <td>5</td>\n",
       "      <td>1564</td>\n",
       "      <td>0</td>\n",
       "      <td>540.0</td>\n",
       "      <td>0</td>\n",
       "      <td>0</td>\n",
       "      <td>B</td>\n",
       "      <td>194756.031250</td>\n",
       "    </tr>\n",
       "    <tr>\n",
       "      <th>19</th>\n",
       "      <td>367</td>\n",
       "      <td>45</td>\n",
       "      <td>1.0</td>\n",
       "      <td>42.367290</td>\n",
       "      <td>40.012527</td>\n",
       "      <td>6.0</td>\n",
       "      <td>16</td>\n",
       "      <td>14.0</td>\n",
       "      <td>2015</td>\n",
       "      <td>0.195781</td>\n",
       "      <td>B</td>\n",
       "      <td>B</td>\n",
       "      <td>23</td>\n",
       "      <td>5212</td>\n",
       "      <td>6</td>\n",
       "      <td>NaN</td>\n",
       "      <td>3</td>\n",
       "      <td>2</td>\n",
       "      <td>B</td>\n",
       "      <td>250466.984375</td>\n",
       "    </tr>\n",
       "    <tr>\n",
       "      <th>33</th>\n",
       "      <td>847</td>\n",
       "      <td>74</td>\n",
       "      <td>2.0</td>\n",
       "      <td>73.314972</td>\n",
       "      <td>74.131264</td>\n",
       "      <td>6.0</td>\n",
       "      <td>7</td>\n",
       "      <td>6.0</td>\n",
       "      <td>1977</td>\n",
       "      <td>0.075779</td>\n",
       "      <td>B</td>\n",
       "      <td>B</td>\n",
       "      <td>6</td>\n",
       "      <td>1437</td>\n",
       "      <td>3</td>\n",
       "      <td>NaN</td>\n",
       "      <td>0</td>\n",
       "      <td>2</td>\n",
       "      <td>B</td>\n",
       "      <td>254005.375000</td>\n",
       "    </tr>\n",
       "    <tr>\n",
       "      <th>34</th>\n",
       "      <td>7757</td>\n",
       "      <td>27</td>\n",
       "      <td>2.0</td>\n",
       "      <td>58.783661</td>\n",
       "      <td>55.441257</td>\n",
       "      <td>11.0</td>\n",
       "      <td>13</td>\n",
       "      <td>12.0</td>\n",
       "      <td>1977</td>\n",
       "      <td>0.011654</td>\n",
       "      <td>B</td>\n",
       "      <td>B</td>\n",
       "      <td>4</td>\n",
       "      <td>915</td>\n",
       "      <td>0</td>\n",
       "      <td>NaN</td>\n",
       "      <td>0</td>\n",
       "      <td>0</td>\n",
       "      <td>B</td>\n",
       "      <td>138396.984375</td>\n",
       "    </tr>\n",
       "    <tr>\n",
       "      <th>...</th>\n",
       "      <td>...</td>\n",
       "      <td>...</td>\n",
       "      <td>...</td>\n",
       "      <td>...</td>\n",
       "      <td>...</td>\n",
       "      <td>...</td>\n",
       "      <td>...</td>\n",
       "      <td>...</td>\n",
       "      <td>...</td>\n",
       "      <td>...</td>\n",
       "      <td>...</td>\n",
       "      <td>...</td>\n",
       "      <td>...</td>\n",
       "      <td>...</td>\n",
       "      <td>...</td>\n",
       "      <td>...</td>\n",
       "      <td>...</td>\n",
       "      <td>...</td>\n",
       "      <td>...</td>\n",
       "      <td>...</td>\n",
       "    </tr>\n",
       "    <tr>\n",
       "      <th>9962</th>\n",
       "      <td>14175</td>\n",
       "      <td>14</td>\n",
       "      <td>1.0</td>\n",
       "      <td>42.029175</td>\n",
       "      <td>44.682167</td>\n",
       "      <td>10.0</td>\n",
       "      <td>4</td>\n",
       "      <td>4.0</td>\n",
       "      <td>2018</td>\n",
       "      <td>0.238617</td>\n",
       "      <td>B</td>\n",
       "      <td>B</td>\n",
       "      <td>26</td>\n",
       "      <td>3889</td>\n",
       "      <td>6</td>\n",
       "      <td>705.0</td>\n",
       "      <td>3</td>\n",
       "      <td>6</td>\n",
       "      <td>B</td>\n",
       "      <td>87556.382812</td>\n",
       "    </tr>\n",
       "    <tr>\n",
       "      <th>9965</th>\n",
       "      <td>6441</td>\n",
       "      <td>52</td>\n",
       "      <td>3.0</td>\n",
       "      <td>85.796883</td>\n",
       "      <td>85.305244</td>\n",
       "      <td>6.0</td>\n",
       "      <td>15</td>\n",
       "      <td>17.0</td>\n",
       "      <td>1977</td>\n",
       "      <td>0.371149</td>\n",
       "      <td>B</td>\n",
       "      <td>B</td>\n",
       "      <td>34</td>\n",
       "      <td>7065</td>\n",
       "      <td>1</td>\n",
       "      <td>750.0</td>\n",
       "      <td>2</td>\n",
       "      <td>5</td>\n",
       "      <td>B</td>\n",
       "      <td>204462.984375</td>\n",
       "    </tr>\n",
       "    <tr>\n",
       "      <th>9979</th>\n",
       "      <td>2201</td>\n",
       "      <td>6</td>\n",
       "      <td>1.0</td>\n",
       "      <td>40.043236</td>\n",
       "      <td>41.984322</td>\n",
       "      <td>6.0</td>\n",
       "      <td>3</td>\n",
       "      <td>17.0</td>\n",
       "      <td>2014</td>\n",
       "      <td>0.243205</td>\n",
       "      <td>B</td>\n",
       "      <td>B</td>\n",
       "      <td>5</td>\n",
       "      <td>1564</td>\n",
       "      <td>0</td>\n",
       "      <td>540.0</td>\n",
       "      <td>0</td>\n",
       "      <td>0</td>\n",
       "      <td>B</td>\n",
       "      <td>134888.078125</td>\n",
       "    </tr>\n",
       "    <tr>\n",
       "      <th>9987</th>\n",
       "      <td>11665</td>\n",
       "      <td>1</td>\n",
       "      <td>2.0</td>\n",
       "      <td>62.690056</td>\n",
       "      <td>64.602936</td>\n",
       "      <td>10.0</td>\n",
       "      <td>19</td>\n",
       "      <td>22.0</td>\n",
       "      <td>2018</td>\n",
       "      <td>0.007122</td>\n",
       "      <td>B</td>\n",
       "      <td>B</td>\n",
       "      <td>1</td>\n",
       "      <td>264</td>\n",
       "      <td>0</td>\n",
       "      <td>NaN</td>\n",
       "      <td>0</td>\n",
       "      <td>1</td>\n",
       "      <td>B</td>\n",
       "      <td>203908.187500</td>\n",
       "    </tr>\n",
       "    <tr>\n",
       "      <th>9993</th>\n",
       "      <td>9289</td>\n",
       "      <td>1</td>\n",
       "      <td>3.0</td>\n",
       "      <td>84.486076</td>\n",
       "      <td>88.931511</td>\n",
       "      <td>6.0</td>\n",
       "      <td>4</td>\n",
       "      <td>22.0</td>\n",
       "      <td>2016</td>\n",
       "      <td>0.007122</td>\n",
       "      <td>B</td>\n",
       "      <td>B</td>\n",
       "      <td>1</td>\n",
       "      <td>264</td>\n",
       "      <td>0</td>\n",
       "      <td>NaN</td>\n",
       "      <td>0</td>\n",
       "      <td>1</td>\n",
       "      <td>B</td>\n",
       "      <td>264213.562500</td>\n",
       "    </tr>\n",
       "  </tbody>\n",
       "</table>\n",
       "<p>1208 rows × 20 columns</p>\n",
       "</div>"
      ],
      "text/plain": [
       "         Id DistrictId  Rooms     Square  LifeSquare  KitchenSquare  Floor  \\\n",
       "8      9951          1    1.0  46.887894   44.628132            6.0     12   \n",
       "9      8094          6    3.0  79.867477   75.085129            6.0      3   \n",
       "19      367         45    1.0  42.367290   40.012527            6.0     16   \n",
       "33      847         74    2.0  73.314972   74.131264            6.0      7   \n",
       "34     7757         27    2.0  58.783661   55.441257           11.0     13   \n",
       "...     ...        ...    ...        ...         ...            ...    ...   \n",
       "9962  14175         14    1.0  42.029175   44.682167           10.0      4   \n",
       "9965   6441         52    3.0  85.796883   85.305244            6.0     15   \n",
       "9979   2201          6    1.0  40.043236   41.984322            6.0      3   \n",
       "9987  11665          1    2.0  62.690056   64.602936           10.0     19   \n",
       "9993   9289          1    3.0  84.486076   88.931511            6.0      4   \n",
       "\n",
       "      HouseFloor  HouseYear  Ecology_1 Ecology_2 Ecology_3  Social_1  \\\n",
       "8           20.0       1977   0.007122         B         B         1   \n",
       "9           17.0       2014   0.243205         B         B         5   \n",
       "19          14.0       2015   0.195781         B         B        23   \n",
       "33           6.0       1977   0.075779         B         B         6   \n",
       "34          12.0       1977   0.011654         B         B         4   \n",
       "...          ...        ...        ...       ...       ...       ...   \n",
       "9962         4.0       2018   0.238617         B         B        26   \n",
       "9965        17.0       1977   0.371149         B         B        34   \n",
       "9979        17.0       2014   0.243205         B         B         5   \n",
       "9987        22.0       2018   0.007122         B         B         1   \n",
       "9993        22.0       2016   0.007122         B         B         1   \n",
       "\n",
       "      Social_2  Social_3  Healthcare_1  Helthcare_2  Shops_1 Shops_2  \\\n",
       "8          264         0           NaN            0        1       B   \n",
       "9         1564         0         540.0            0        0       B   \n",
       "19        5212         6           NaN            3        2       B   \n",
       "33        1437         3           NaN            0        2       B   \n",
       "34         915         0           NaN            0        0       B   \n",
       "...        ...       ...           ...          ...      ...     ...   \n",
       "9962      3889         6         705.0            3        6       B   \n",
       "9965      7065         1         750.0            2        5       B   \n",
       "9979      1564         0         540.0            0        0       B   \n",
       "9987       264         0           NaN            0        1       B   \n",
       "9993       264         0           NaN            0        1       B   \n",
       "\n",
       "              Price  \n",
       "8     160400.406250  \n",
       "9     194756.031250  \n",
       "19    250466.984375  \n",
       "33    254005.375000  \n",
       "34    138396.984375  \n",
       "...             ...  \n",
       "9962   87556.382812  \n",
       "9965  204462.984375  \n",
       "9979  134888.078125  \n",
       "9987  203908.187500  \n",
       "9993  264213.562500  \n",
       "\n",
       "[1208 rows x 20 columns]"
      ]
     },
     "execution_count": 772,
     "metadata": {},
     "output_type": "execute_result"
    }
   ],
   "source": [
    "df.loc[df['LifeSquare'] > (df['Square']-df['KitchenSquare'])]"
   ]
  },
  {
   "cell_type": "markdown",
   "id": "243708ed",
   "metadata": {},
   "source": [
    "Для таких квартир исправим жилую площадь на разность между общей площадью и суммой площади кухни и средним значением иной нежилой площади."
   ]
  },
  {
   "cell_type": "code",
   "execution_count": 773,
   "id": "0c67b1e8",
   "metadata": {},
   "outputs": [],
   "source": [
    "df.loc[df['LifeSquare'] > (df['Square']-df['KitchenSquare']), 'LifeSquare'] = \\\n",
    " df['Square']-df['KitchenSquare']-(df['Square']-df['KitchenSquare']-df['LifeSquare']).median()"
   ]
  },
  {
   "cell_type": "markdown",
   "id": "bd428753",
   "metadata": {},
   "source": [
    "В нашем датасете очень много незаполненного признака LifeSquare. Заполним медианным значением. Заодно обработаем выбросы."
   ]
  },
  {
   "cell_type": "code",
   "execution_count": 774,
   "id": "dbe9290f",
   "metadata": {},
   "outputs": [],
   "source": [
    "condition = (df['LifeSquare'].isna()) \\\n",
    "             | (df['LifeSquare'] > df['LifeSquare'].quantile(.975)) \\\n",
    "                | (df['LifeSquare'] < df['LifeSquare'].quantile(.025))\n",
    "\n",
    "df.loc[condition, 'LifeSquare'] = df['LifeSquare'].median()"
   ]
  },
  {
   "cell_type": "code",
   "execution_count": 775,
   "id": "e633ef37",
   "metadata": {
    "scrolled": false
   },
   "outputs": [
    {
     "data": {
      "image/png": "[encoded data removed]",
      "text/plain": [
       "<Figure size 864x432 with 1 Axes>"
      ]
     },
     "metadata": {
      "needs_background": "light"
     },
     "output_type": "display_data"
    }
   ],
   "source": [
    "plt.figure(figsize = (12, 6))\n",
    "df['LifeSquare'].hist(bins=20)\n",
    "plt.ylabel('count')\n",
    "plt.xlabel('LifeSquare')\n",
    "\n",
    "plt.title('LifeSquare')\n",
    "plt.show()"
   ]
  },
  {
   "cell_type": "markdown",
   "id": "c70f2c7e",
   "metadata": {},
   "source": [
    "Посмотрим на данные о **количестве комнат**."
   ]
  },
  {
   "cell_type": "code",
   "execution_count": 776,
   "id": "6c61d374",
   "metadata": {},
   "outputs": [
    {
     "data": {
      "text/plain": [
       "2.0     3880\n",
       "1.0     3705\n",
       "3.0     2235\n",
       "4.0      150\n",
       "5.0       18\n",
       "0.0        8\n",
       "10.0       2\n",
       "19.0       1\n",
       "6.0        1\n",
       "Name: Rooms, dtype: int64"
      ]
     },
     "execution_count": 776,
     "metadata": {},
     "output_type": "execute_result"
    }
   ],
   "source": [
    "df['Rooms'].value_counts()"
   ]
  },
  {
   "cell_type": "code",
   "execution_count": 777,
   "id": "a5620bef",
   "metadata": {
    "scrolled": false
   },
   "outputs": [
    {
     "data": {
      "image/png": "[encoded data removed]",
      "text/plain": [
       "<Figure size 864x432 with 1 Axes>"
      ]
     },
     "metadata": {
      "needs_background": "light"
     },
     "output_type": "display_data"
    }
   ],
   "source": [
    "plt.figure(figsize = (12, 6))\n",
    "df['Rooms'].hist(bins=20)\n",
    "plt.ylabel('count')\n",
    "plt.xlabel('Rooms')\n",
    "\n",
    "plt.title('Rooms')\n",
    "plt.show()"
   ]
  },
  {
   "cell_type": "code",
   "execution_count": 778,
   "id": "f794829a",
   "metadata": {},
   "outputs": [
    {
     "data": {
      "image/png": "[encoded data removed]",
      "text/plain": [
       "<Figure size 1080x360 with 2 Axes>"
      ]
     },
     "metadata": {
      "needs_background": "light"
     },
     "output_type": "display_data"
    }
   ],
   "source": [
    "fig, ax = plt.subplots(nrows=1, ncols=2)\n",
    "ax1, ax2 = ax.flatten()\n",
    "ax1.scatter(df['Rooms'], df['Square'])\n",
    "ax1.set_xlabel('Rooms')\n",
    "ax1.set_ylabel('Square')\n",
    "ax1.set_title('Соотношение площади и количества комнат')\n",
    "ax2.scatter(df['Rooms'], df['Price'])\n",
    "ax2.set_xlabel('Rooms')\n",
    "ax2.set_ylabel('Price')\n",
    "ax2.set_title('Соотношение цены и количества комнат')\n",
    "fig.set_size_inches(15, 5)\n",
    "plt.subplots_adjust(wspace=0.3)"
   ]
  },
  {
   "cell_type": "markdown",
   "id": "b14e5e41",
   "metadata": {},
   "source": [
    "0 комнат в квартирре быть не может. Также большое количество комнат не коррелирует с ценой и площадью, из чего делаем вывод об ошибке в данных. Заменим эти значения Rooms медианой."
   ]
  },
  {
   "cell_type": "code",
   "execution_count": 779,
   "id": "947b2df8",
   "metadata": {},
   "outputs": [],
   "source": [
    "df.loc[(df['Rooms'] == 0) | (df['Rooms'] > 6), 'Rooms'] = df.Rooms.median()"
   ]
  },
  {
   "cell_type": "code",
   "execution_count": 780,
   "id": "91c7ce73",
   "metadata": {},
   "outputs": [],
   "source": [
    "df.Rooms = df.Rooms.astype('int')"
   ]
  },
  {
   "cell_type": "markdown",
   "id": "542bba1c",
   "metadata": {},
   "source": [
    "**Floor** и **HouseFloor**\n",
    "\n",
    "В доме не может быть 0 этажей. Заменим 0 медианой."
   ]
  },
  {
   "cell_type": "code",
   "execution_count": 781,
   "id": "01a4d4e1",
   "metadata": {},
   "outputs": [],
   "source": [
    "df.loc[df['HouseFloor'] == 0, 'HouseFloor'] = df['HouseFloor'].median()"
   ]
  },
  {
   "cell_type": "markdown",
   "id": "7a3a5e74",
   "metadata": {},
   "source": [
    "Этаж не может быть больше количества этажей в доме. Попробуем исправить подобную ситуацию."
   ]
  },
  {
   "cell_type": "code",
   "execution_count": 782,
   "id": "e1878549",
   "metadata": {},
   "outputs": [],
   "source": [
    "df.loc[df['HouseFloor'] < df['Floor'], 'Floor'] = \\\n",
    "df.loc[df.loc[df['HouseFloor'] < df['Floor']].index, 'HouseFloor'].apply(lambda x: np.random.randint(1, x+1))"
   ]
  },
  {
   "cell_type": "markdown",
   "id": "f4fce410",
   "metadata": {},
   "source": [
    "Посмотрим на значения **года постройки** и устраним аномалии с помощью моды."
   ]
  },
  {
   "cell_type": "code",
   "execution_count": 783,
   "id": "e8af2e57",
   "metadata": {},
   "outputs": [
    {
     "data": {
      "text/plain": [
       "array([    1910,     1912,     1914,     1916,     1917,     1918,\n",
       "           1919,     1928,     1929,     1930,     1931,     1932,\n",
       "           1933,     1934,     1935,     1936,     1937,     1938,\n",
       "           1939,     1940,     1941,     1942,     1947,     1948,\n",
       "           1950,     1951,     1952,     1953,     1954,     1955,\n",
       "           1956,     1957,     1958,     1959,     1960,     1961,\n",
       "           1962,     1963,     1964,     1965,     1966,     1967,\n",
       "           1968,     1969,     1970,     1971,     1972,     1973,\n",
       "           1974,     1975,     1976,     1977,     1978,     1979,\n",
       "           1980,     1981,     1982,     1983,     1984,     1985,\n",
       "           1986,     1987,     1988,     1989,     1990,     1991,\n",
       "           1992,     1993,     1994,     1995,     1996,     1997,\n",
       "           1998,     1999,     2000,     2001,     2002,     2003,\n",
       "           2004,     2005,     2006,     2007,     2008,     2009,\n",
       "           2010,     2011,     2012,     2013,     2014,     2015,\n",
       "           2016,     2017,     2018,     2019,     2020,     4968,\n",
       "       20052011], dtype=int32)"
      ]
     },
     "execution_count": 783,
     "metadata": {},
     "output_type": "execute_result"
    }
   ],
   "source": [
    "df['HouseYear'].sort_values().unique()"
   ]
  },
  {
   "cell_type": "code",
   "execution_count": 784,
   "id": "4c1d0210",
   "metadata": {},
   "outputs": [],
   "source": [
    "df.loc[(df['HouseYear'] > 2020) | (df['HouseYear'] < 1910), 'HouseYear'] = df['HouseYear'].mode()[0]"
   ]
  },
  {
   "cell_type": "markdown",
   "id": "223427f9",
   "metadata": {},
   "source": [
    "Оценим значения **экологических показателей** местности."
   ]
  },
  {
   "cell_type": "code",
   "execution_count": 785,
   "id": "e30dffd7",
   "metadata": {},
   "outputs": [
    {
     "data": {
      "text/plain": [
       "array([0.0000000e+00, 1.8000000e-09, 6.9989299e-05, 7.8152800e-05,\n",
       "       1.6967600e-04, 6.9911900e-04, 9.9136296e-04, 9.9536299e-04,\n",
       "       2.2116650e-03, 4.9493578e-03, 5.7674511e-03, 6.0761520e-03,\n",
       "       7.1223169e-03, 7.6585151e-03, 7.7202818e-03, 1.1319810e-02,\n",
       "       1.1654127e-02, 1.2338886e-02, 1.2521634e-02, 1.4057920e-02,\n",
       "       1.4072961e-02, 1.4333947e-02, 1.4423114e-02, 1.4580716e-02,\n",
       "       1.5016892e-02, 1.7647052e-02, 1.9508796e-02, 2.0741327e-02,\n",
       "       2.5609156e-02, 3.3493709e-02, 3.4331497e-02, 3.4656081e-02,\n",
       "       3.5145268e-02, 3.6122292e-02, 3.6270089e-02, 3.7177820e-02,\n",
       "       3.7316453e-02, 3.8692988e-02, 4.0242765e-02, 4.1116353e-02,\n",
       "       4.1124634e-02, 4.1365445e-02, 4.2031586e-02, 4.2307273e-02,\n",
       "       4.9637258e-02, 4.9863387e-02, 5.0272014e-02, 5.0755568e-02,\n",
       "       5.0900057e-02, 5.1815435e-02, 5.1942062e-02, 6.0753047e-02,\n",
       "       6.9660343e-02, 6.9753364e-02, 7.2157584e-02, 7.5423680e-02,\n",
       "       7.5778753e-02, 8.1943460e-02, 8.6885266e-02, 8.7619089e-02,\n",
       "       8.9039721e-02, 9.0799101e-02, 9.2290640e-02, 9.3442567e-02,\n",
       "       1.0045574e-01, 1.0187247e-01, 1.1162739e-01, 1.1853738e-01,\n",
       "       1.2209035e-01, 1.2219048e-01, 1.2737590e-01, 1.2781160e-01,\n",
       "       1.3012277e-01, 1.3061781e-01, 1.3321534e-01, 1.3564979e-01,\n",
       "       1.3624443e-01, 1.3633031e-01, 1.4890389e-01, 1.4966637e-01,\n",
       "       1.5081754e-01, 1.5134622e-01, 1.5824905e-01, 1.6153175e-01,\n",
       "       1.6197556e-01, 1.6909109e-01, 1.7473908e-01, 1.7505486e-01,\n",
       "       1.7891680e-01, 1.8878376e-01, 1.9448927e-01, 1.9578105e-01,\n",
       "       1.9736795e-01, 2.0014681e-01, 2.1047324e-01, 2.1140121e-01,\n",
       "       2.1251535e-01, 2.1843974e-01, 2.1900600e-01, 2.2582495e-01,\n",
       "       2.3220508e-01, 2.3610845e-01, 2.3861714e-01, 2.4320452e-01,\n",
       "       2.4603155e-01, 2.4662361e-01, 2.6508868e-01, 2.8279766e-01,\n",
       "       2.9820457e-01, 3.0032253e-01, 3.0697748e-01, 3.0746666e-01,\n",
       "       3.0947912e-01, 3.1019914e-01, 3.1392455e-01, 3.1980935e-01,\n",
       "       3.2701802e-01, 3.3389154e-01, 3.4107193e-01, 3.7114900e-01,\n",
       "       3.8677165e-01, 3.9409420e-01, 4.0727624e-01, 4.2882583e-01,\n",
       "       4.3788525e-01, 4.5817450e-01, 4.6055639e-01, 4.8624563e-01,\n",
       "       5.2186704e-01], dtype=float32)"
      ]
     },
     "execution_count": 785,
     "metadata": {},
     "output_type": "execute_result"
    }
   ],
   "source": [
    "df['Ecology_1'].sort_values().unique()"
   ]
  },
  {
   "cell_type": "code",
   "execution_count": 809,
   "id": "ff1d0793",
   "metadata": {
    "scrolled": true
   },
   "outputs": [
    {
     "name": "stderr",
     "output_type": "stream",
     "text": [
      "/opt/anaconda3/envs/PythonForDS/lib/python3.9/site-packages/seaborn/_decorators.py:36: FutureWarning: Pass the following variable as a keyword arg: x. From version 0.12, the only valid positional argument will be `data`, and passing other arguments without an explicit keyword will result in an error or misinterpretation.\n",
      "  warnings.warn(\n"
     ]
    },
    {
     "data": {
      "image/png": "[encoded data removed]",
      "text/plain": [
       "<Figure size 864x432 with 1 Axes>"
      ]
     },
     "metadata": {
      "needs_background": "light"
     },
     "output_type": "display_data"
    }
   ],
   "source": [
    "plt.figure(figsize = (12, 6))\n",
    "sns.boxplot(df['Ecology_1'], whis=1.5, orient='h')\n",
    "\n",
    "plt.xlabel('Ecology_1')\n",
    "plt.show()"
   ]
  },
  {
   "cell_type": "code",
   "execution_count": 787,
   "id": "296e8c0b",
   "metadata": {
    "scrolled": true
   },
   "outputs": [
    {
     "data": {
      "text/plain": [
       "['A', 'B']\n",
       "Categories (2, object): ['A', 'B']"
      ]
     },
     "execution_count": 787,
     "metadata": {},
     "output_type": "execute_result"
    }
   ],
   "source": [
    "df['Ecology_2'].sort_values().unique()"
   ]
  },
  {
   "cell_type": "code",
   "execution_count": 788,
   "id": "94becdf2",
   "metadata": {},
   "outputs": [
    {
     "data": {
      "text/plain": [
       "['A', 'B']\n",
       "Categories (2, object): ['A', 'B']"
      ]
     },
     "execution_count": 788,
     "metadata": {},
     "output_type": "execute_result"
    }
   ],
   "source": [
    "df['Ecology_3'].sort_values().unique()"
   ]
  },
  {
   "cell_type": "code",
   "execution_count": 818,
   "id": "4978566c",
   "metadata": {},
   "outputs": [],
   "source": [
    "df['Ecology_2'] = (df['Ecology_2'] == 'A').astype(int)\n",
    "df['Ecology_3'] = (df['Ecology_3'] == 'A').astype(int)"
   ]
  },
  {
   "cell_type": "code",
   "execution_count": 819,
   "id": "a0b27043",
   "metadata": {},
   "outputs": [
    {
     "data": {
      "image/png": "[encoded data removed]",
      "text/plain": [
       "<Figure size 864x576 with 2 Axes>"
      ]
     },
     "metadata": {
      "needs_background": "light"
     },
     "output_type": "display_data"
    }
   ],
   "source": [
    "fig, ax = plt.subplots(nrows=1, ncols=2)\n",
    "ax1, ax2 = ax.flatten()\n",
    "df['Ecology_2'].value_counts().plot(ax=ax1, kind='bar', logy=True)\n",
    "ax1.set_title('Ecology_2')\n",
    "df['Ecology_3'].value_counts().plot(ax=ax2, kind='bar', logy=True)\n",
    "ax2.set_title('Ecology_3')\n",
    "fig.set_size_inches(12, 8)\n",
    "plt.subplots_adjust(wspace=0.3)"
   ]
  },
  {
   "cell_type": "markdown",
   "id": "c250075a",
   "metadata": {},
   "source": [
    "Обработаем выбросы 'Ecology_1'."
   ]
  },
  {
   "cell_type": "code",
   "execution_count": 790,
   "id": "1140b4cc",
   "metadata": {},
   "outputs": [],
   "source": [
    "df.loc[(df['Ecology_1'] > df['Ecology_1'].quantile(.975)) \\\n",
    "                | (df['Ecology_1'] < df['Ecology_1'].quantile(.025)), 'Ecology_1'] = df['Ecology_1'].median()"
   ]
  },
  {
   "cell_type": "markdown",
   "id": "11f2ba27",
   "metadata": {},
   "source": [
    "Оценим значения **социальных показателей местности**."
   ]
  },
  {
   "cell_type": "code",
   "execution_count": 791,
   "id": "3e027999",
   "metadata": {},
   "outputs": [
    {
     "data": {
      "text/plain": [
       "array([ 0,  1,  2,  3,  4,  5,  6,  7,  8,  9, 10, 11, 12, 13, 14, 15, 16,\n",
       "       17, 18, 19, 20, 21, 22, 23, 24, 25, 26, 27, 28, 29, 30, 31, 32, 33,\n",
       "       34, 35, 36, 37, 38, 39, 41, 42, 43, 46, 47, 49, 50, 52, 53, 66, 74],\n",
       "      dtype=int8)"
      ]
     },
     "execution_count": 791,
     "metadata": {},
     "output_type": "execute_result"
    }
   ],
   "source": [
    "df['Social_1'].sort_values().unique()"
   ]
  },
  {
   "cell_type": "code",
   "execution_count": 811,
   "id": "8cb938b0",
   "metadata": {},
   "outputs": [
    {
     "name": "stderr",
     "output_type": "stream",
     "text": [
      "/opt/anaconda3/envs/PythonForDS/lib/python3.9/site-packages/seaborn/_decorators.py:36: FutureWarning: Pass the following variable as a keyword arg: x. From version 0.12, the only valid positional argument will be `data`, and passing other arguments without an explicit keyword will result in an error or misinterpretation.\n",
      "  warnings.warn(\n"
     ]
    },
    {
     "data": {
      "image/png": "[encoded data removed]",
      "text/plain": [
       "<Figure size 864x432 with 1 Axes>"
      ]
     },
     "metadata": {
      "needs_background": "light"
     },
     "output_type": "display_data"
    }
   ],
   "source": [
    "plt.figure(figsize = (12, 6))\n",
    "sns.boxplot(df['Social_1'], whis=1.5, orient='h')\n",
    "\n",
    "plt.xlabel('Social_1')\n",
    "plt.show()"
   ]
  },
  {
   "cell_type": "code",
   "execution_count": 793,
   "id": "a4ccbf30",
   "metadata": {},
   "outputs": [
    {
     "data": {
      "text/plain": [
       "array([  168,   186,   264,   290,   388,   469,   475,   507,   528,\n",
       "         568,   629,   662,   760,   915,  1135,  1227,  1318,  1423,\n",
       "        1437,  1497,  1564,  1660,  1768,  1892,  1952,  1986,  2270,\n",
       "        2277,  2370,  2398,  2423,  2514,  2733,  2738,  2748,  2787,\n",
       "        2810,  2940,  3079,  3097,  3151,  3293,  3369,  3374,  3379,\n",
       "        3433,  3478,  3594,  3681,  3684,  3746,  3806,  3856,  3889,\n",
       "        3893,  3975,  4017,  4048,  4231,  4346,  4378,  4386,  4439,\n",
       "        4472,  4583,  4625,  4635,  4724,  4756,  4788,  4789,  4798,\n",
       "        4860,  5011,  5027,  5048,  5067,  5148,  5212,  5261,  5285,\n",
       "        5288,  5469,  5487,  5562,  5569,  5613,  5648,  5664,  5731,\n",
       "        5735,  5776,  5889,  5992,  6119,  6137,  6141,  6149,  6207,\n",
       "        6398,  6533,  6558,  6564,  6566,  6714,  6746,  6748,  6783,\n",
       "        6856,  7010,  7065,  7077,  7227,  7287,  7425,  7538,  7614,\n",
       "        7651,  7687,  7715,  7759,  7960,  7976,  8004,  8429,  8647,\n",
       "        8667,  9292,  9515, 10055, 10309, 10311, 10418, 10573, 10621,\n",
       "       11217, 11319, 11395, 12238, 13670, 14892, 19083], dtype=int16)"
      ]
     },
     "execution_count": 793,
     "metadata": {},
     "output_type": "execute_result"
    }
   ],
   "source": [
    "df['Social_2'].sort_values().unique()"
   ]
  },
  {
   "cell_type": "code",
   "execution_count": 812,
   "id": "880d1248",
   "metadata": {},
   "outputs": [
    {
     "name": "stderr",
     "output_type": "stream",
     "text": [
      "/opt/anaconda3/envs/PythonForDS/lib/python3.9/site-packages/seaborn/_decorators.py:36: FutureWarning: Pass the following variable as a keyword arg: x. From version 0.12, the only valid positional argument will be `data`, and passing other arguments without an explicit keyword will result in an error or misinterpretation.\n",
      "  warnings.warn(\n"
     ]
    },
    {
     "data": {
      "image/png": "[encoded data removed]",
      "text/plain": [
       "<Figure size 864x432 with 1 Axes>"
      ]
     },
     "metadata": {
      "needs_background": "light"
     },
     "output_type": "display_data"
    }
   ],
   "source": [
    "plt.figure(figsize = (12, 6))\n",
    "sns.boxplot(df['Social_2'], whis=1.5, orient='h')\n",
    "\n",
    "plt.xlabel('Social_2')\n",
    "plt.show()"
   ]
  },
  {
   "cell_type": "code",
   "execution_count": 795,
   "id": "1015d7de",
   "metadata": {},
   "outputs": [
    {
     "data": {
      "text/plain": [
       "0      2997\n",
       "1      1861\n",
       "2       635\n",
       "3      1136\n",
       "4       835\n",
       "5       391\n",
       "6       423\n",
       "7       184\n",
       "8       170\n",
       "9       192\n",
       "10      142\n",
       "11      172\n",
       "14       97\n",
       "16      101\n",
       "19       22\n",
       "20       19\n",
       "23       18\n",
       "24       37\n",
       "27       59\n",
       "37        3\n",
       "39       15\n",
       "45        9\n",
       "48       58\n",
       "56       49\n",
       "59       25\n",
       "73       10\n",
       "84       43\n",
       "87       27\n",
       "93       25\n",
       "141     245\n",
       "Name: Social_3, dtype: int64"
      ]
     },
     "execution_count": 795,
     "metadata": {},
     "output_type": "execute_result"
    }
   ],
   "source": [
    "df['Social_3'].value_counts().sort_index()"
   ]
  },
  {
   "cell_type": "code",
   "execution_count": 813,
   "id": "a5f6a13c",
   "metadata": {
    "scrolled": false
   },
   "outputs": [
    {
     "name": "stderr",
     "output_type": "stream",
     "text": [
      "/opt/anaconda3/envs/PythonForDS/lib/python3.9/site-packages/seaborn/_decorators.py:36: FutureWarning: Pass the following variable as a keyword arg: x. From version 0.12, the only valid positional argument will be `data`, and passing other arguments without an explicit keyword will result in an error or misinterpretation.\n",
      "  warnings.warn(\n"
     ]
    },
    {
     "data": {
      "image/png": "[encoded data removed]",
      "text/plain": [
       "<Figure size 864x432 with 1 Axes>"
      ]
     },
     "metadata": {
      "needs_background": "light"
     },
     "output_type": "display_data"
    }
   ],
   "source": [
    "plt.figure(figsize = (12, 6))\n",
    "sns.boxplot(df['Social_3'], whis=1.5, orient='h')\n",
    "\n",
    "plt.xlabel('Social_3')\n",
    "plt.show()"
   ]
  },
  {
   "cell_type": "markdown",
   "id": "d9a1946e",
   "metadata": {},
   "source": [
    "Практически в половине объектов признак **Healthcare_1** не заполнен, скорее всего его как-то можно использовать, но мы его удалим."
   ]
  },
  {
   "cell_type": "code",
   "execution_count": 798,
   "id": "f3af072b",
   "metadata": {},
   "outputs": [],
   "source": [
    "df.drop('Healthcare_1', axis=1, inplace=True)"
   ]
  },
  {
   "cell_type": "markdown",
   "id": "21cf6829",
   "metadata": {},
   "source": [
    "**Helthcare_2**"
   ]
  },
  {
   "cell_type": "code",
   "execution_count": 799,
   "id": "d99789d6",
   "metadata": {},
   "outputs": [
    {
     "data": {
      "text/plain": [
       "array([0, 1, 2, 3, 4, 5, 6], dtype=int8)"
      ]
     },
     "execution_count": 799,
     "metadata": {},
     "output_type": "execute_result"
    }
   ],
   "source": [
    "df['Helthcare_2'].sort_values().unique()"
   ]
  },
  {
   "cell_type": "code",
   "execution_count": 800,
   "id": "ebd80624",
   "metadata": {},
   "outputs": [
    {
     "data": {
      "text/plain": [
       "0    4214\n",
       "1    2183\n",
       "2    1158\n",
       "3    1670\n",
       "4     288\n",
       "5     388\n",
       "6      99\n",
       "Name: Helthcare_2, dtype: int64"
      ]
     },
     "execution_count": 800,
     "metadata": {},
     "output_type": "execute_result"
    }
   ],
   "source": [
    "df['Helthcare_2'].value_counts().sort_index()"
   ]
  },
  {
   "cell_type": "code",
   "execution_count": 814,
   "id": "60af3bc4",
   "metadata": {},
   "outputs": [
    {
     "name": "stderr",
     "output_type": "stream",
     "text": [
      "/opt/anaconda3/envs/PythonForDS/lib/python3.9/site-packages/seaborn/_decorators.py:36: FutureWarning: Pass the following variables as keyword args: x, y. From version 0.12, the only valid positional argument will be `data`, and passing other arguments without an explicit keyword will result in an error or misinterpretation.\n",
      "  warnings.warn(\n"
     ]
    },
    {
     "data": {
      "image/png": "[encoded data removed]",
      "text/plain": [
       "<Figure size 864x432 with 1 Axes>"
      ]
     },
     "metadata": {
      "needs_background": "light"
     },
     "output_type": "display_data"
    }
   ],
   "source": [
    "plt.figure(figsize = (12, 6))\n",
    "counts = df['Helthcare_2'].value_counts()\n",
    "plt.title('Helthcare_2')\n",
    "sns.barplot(counts.index, counts.values)\n",
    "plt.show()"
   ]
  },
  {
   "cell_type": "markdown",
   "id": "7b8ba6d4",
   "metadata": {},
   "source": [
    "**Shops_1, Shops_2** - показатели, связанные с наличием магазинов, торговых центров"
   ]
  },
  {
   "cell_type": "code",
   "execution_count": 802,
   "id": "c6c12bb5",
   "metadata": {},
   "outputs": [
    {
     "data": {
      "text/plain": [
       "0     2316\n",
       "1     1325\n",
       "2      964\n",
       "3      711\n",
       "4      841\n",
       "5     1324\n",
       "6      487\n",
       "7      294\n",
       "8      253\n",
       "9      316\n",
       "10     215\n",
       "11     401\n",
       "15     176\n",
       "16      83\n",
       "19      49\n",
       "23     245\n",
       "Name: Shops_1, dtype: int64"
      ]
     },
     "execution_count": 802,
     "metadata": {},
     "output_type": "execute_result"
    }
   ],
   "source": [
    "df['Shops_1'].value_counts().sort_index()"
   ]
  },
  {
   "cell_type": "code",
   "execution_count": 815,
   "id": "cb11cd73",
   "metadata": {},
   "outputs": [
    {
     "name": "stderr",
     "output_type": "stream",
     "text": [
      "/opt/anaconda3/envs/PythonForDS/lib/python3.9/site-packages/seaborn/_decorators.py:36: FutureWarning: Pass the following variable as a keyword arg: x. From version 0.12, the only valid positional argument will be `data`, and passing other arguments without an explicit keyword will result in an error or misinterpretation.\n",
      "  warnings.warn(\n"
     ]
    },
    {
     "data": {
      "image/png": "[encoded data removed]",
      "text/plain": [
       "<Figure size 864x432 with 1 Axes>"
      ]
     },
     "metadata": {
      "needs_background": "light"
     },
     "output_type": "display_data"
    }
   ],
   "source": [
    "plt.figure(figsize = (12, 6))\n",
    "sns.boxplot(df['Shops_1'], whis=1.5, orient='h')\n",
    "\n",
    "plt.xlabel('Shops_1')\n",
    "plt.show()"
   ]
  },
  {
   "cell_type": "code",
   "execution_count": 804,
   "id": "ec51020b",
   "metadata": {},
   "outputs": [
    {
     "data": {
      "text/plain": [
       "A     825\n",
       "B    9175\n",
       "Name: Shops_2, dtype: int64"
      ]
     },
     "execution_count": 804,
     "metadata": {},
     "output_type": "execute_result"
    }
   ],
   "source": [
    "df['Shops_2'].value_counts().sort_index()"
   ]
  },
  {
   "cell_type": "code",
   "execution_count": 816,
   "id": "874e02fe",
   "metadata": {},
   "outputs": [
    {
     "name": "stderr",
     "output_type": "stream",
     "text": [
      "/opt/anaconda3/envs/PythonForDS/lib/python3.9/site-packages/seaborn/_decorators.py:36: FutureWarning: Pass the following variables as keyword args: x, y. From version 0.12, the only valid positional argument will be `data`, and passing other arguments without an explicit keyword will result in an error or misinterpretation.\n",
      "  warnings.warn(\n"
     ]
    },
    {
     "data": {
      "image/png": "[encoded data removed]",
      "text/plain": [
       "<Figure size 864x432 with 1 Axes>"
      ]
     },
     "metadata": {
      "needs_background": "light"
     },
     "output_type": "display_data"
    }
   ],
   "source": [
    "plt.figure(figsize = (12, 6))\n",
    "counts = df['Shops_2'].value_counts()\n",
    "plt.title('Shops_2')\n",
    "sns.barplot(counts.index, counts.values)\n",
    "plt.show()"
   ]
  },
  {
   "cell_type": "markdown",
   "id": "9a7e0e43",
   "metadata": {},
   "source": [
    "### Генерация новых признаков"
   ]
  },
  {
   "cell_type": "markdown",
   "id": "c4190118",
   "metadata": {},
   "source": [
    "Как правило в многоэтажных домах первые и последние этажи ценятся меньше. Сгенерируем новый признак **'bag_floor'**"
   ]
  },
  {
   "cell_type": "code",
   "execution_count": 806,
   "id": "4b1810db",
   "metadata": {},
   "outputs": [],
   "source": [
    "df['bag_floor'] = 0\n",
    "df.loc[(df['Floor'] == 1) & (df['HouseFloor'] > 3), 'bag_floor'] = 1\n",
    "df.loc[(df['Floor'] == df['HouseFloor']) & (df['HouseFloor'] > 3), 'bag_floor'] = 1"
   ]
  },
  {
   "cell_type": "markdown",
   "id": "4b554d5c",
   "metadata": {},
   "source": [
    "Сгенерируем новый признак **'Social_3_anomaly'** на основе аномальности значений 'Social_3'"
   ]
  },
  {
   "cell_type": "code",
   "execution_count": 797,
   "id": "2827d6bb",
   "metadata": {},
   "outputs": [],
   "source": [
    "df['Social_3_anomaly'] = 0\n",
    "df.loc[df['Social_3'] > df['Social_3'].quantile(.975), 'Social_3_anomaly'] = 1"
   ]
  },
  {
   "cell_type": "markdown",
   "id": "a9401e6c",
   "metadata": {},
   "source": [
    "На основе данных о площади сгенерируем призники отражающие **долю жилой площади** в площади квартиры и **долю площади кухни**."
   ]
  },
  {
   "cell_type": "code",
   "execution_count": 817,
   "id": "71a747a0",
   "metadata": {},
   "outputs": [
    {
     "data": {
      "text/html": [
       "<div>\n",
       "<style scoped>\n",
       "    .dataframe tbody tr th:only-of-type {\n",
       "        vertical-align: middle;\n",
       "    }\n",
       "\n",
       "    .dataframe tbody tr th {\n",
       "        vertical-align: top;\n",
       "    }\n",
       "\n",
       "    .dataframe thead th {\n",
       "        text-align: right;\n",
       "    }\n",
       "</style>\n",
       "<table border=\"1\" class=\"dataframe\">\n",
       "  <thead>\n",
       "    <tr style=\"text-align: right;\">\n",
       "      <th></th>\n",
       "      <th>Id</th>\n",
       "      <th>DistrictId</th>\n",
       "      <th>Rooms</th>\n",
       "      <th>Square</th>\n",
       "      <th>LifeSquare</th>\n",
       "      <th>KitchenSquare</th>\n",
       "      <th>Floor</th>\n",
       "      <th>HouseFloor</th>\n",
       "      <th>HouseYear</th>\n",
       "      <th>Ecology_1</th>\n",
       "      <th>...</th>\n",
       "      <th>Social_2</th>\n",
       "      <th>Social_3</th>\n",
       "      <th>Helthcare_2</th>\n",
       "      <th>Shops_1</th>\n",
       "      <th>Shops_2</th>\n",
       "      <th>Price</th>\n",
       "      <th>Social_3_anomaly</th>\n",
       "      <th>bag_floor</th>\n",
       "      <th>LifeSquareFrac</th>\n",
       "      <th>KitchenSquareFrac</th>\n",
       "    </tr>\n",
       "  </thead>\n",
       "  <tbody>\n",
       "    <tr>\n",
       "      <th>0</th>\n",
       "      <td>11809</td>\n",
       "      <td>27</td>\n",
       "      <td>3</td>\n",
       "      <td>115.027313</td>\n",
       "      <td>31.274471</td>\n",
       "      <td>10.0</td>\n",
       "      <td>4</td>\n",
       "      <td>10.0</td>\n",
       "      <td>2014</td>\n",
       "      <td>0.075424</td>\n",
       "      <td>...</td>\n",
       "      <td>3097</td>\n",
       "      <td>0</td>\n",
       "      <td>0</td>\n",
       "      <td>0</td>\n",
       "      <td>B</td>\n",
       "      <td>305018.875000</td>\n",
       "      <td>0</td>\n",
       "      <td>0</td>\n",
       "      <td>0.271887</td>\n",
       "      <td>0.086936</td>\n",
       "    </tr>\n",
       "    <tr>\n",
       "      <th>1</th>\n",
       "      <td>3013</td>\n",
       "      <td>22</td>\n",
       "      <td>1</td>\n",
       "      <td>39.832523</td>\n",
       "      <td>23.169222</td>\n",
       "      <td>8.0</td>\n",
       "      <td>7</td>\n",
       "      <td>8.0</td>\n",
       "      <td>1966</td>\n",
       "      <td>0.118537</td>\n",
       "      <td>...</td>\n",
       "      <td>6207</td>\n",
       "      <td>1</td>\n",
       "      <td>1</td>\n",
       "      <td>0</td>\n",
       "      <td>B</td>\n",
       "      <td>177734.546875</td>\n",
       "      <td>0</td>\n",
       "      <td>0</td>\n",
       "      <td>0.581666</td>\n",
       "      <td>0.200841</td>\n",
       "    </tr>\n",
       "    <tr>\n",
       "      <th>2</th>\n",
       "      <td>8215</td>\n",
       "      <td>1</td>\n",
       "      <td>3</td>\n",
       "      <td>78.342216</td>\n",
       "      <td>47.671970</td>\n",
       "      <td>10.0</td>\n",
       "      <td>2</td>\n",
       "      <td>17.0</td>\n",
       "      <td>1988</td>\n",
       "      <td>0.025609</td>\n",
       "      <td>...</td>\n",
       "      <td>5261</td>\n",
       "      <td>0</td>\n",
       "      <td>3</td>\n",
       "      <td>1</td>\n",
       "      <td>B</td>\n",
       "      <td>282078.718750</td>\n",
       "      <td>0</td>\n",
       "      <td>0</td>\n",
       "      <td>0.608509</td>\n",
       "      <td>0.127645</td>\n",
       "    </tr>\n",
       "  </tbody>\n",
       "</table>\n",
       "<p>3 rows × 23 columns</p>\n",
       "</div>"
      ],
      "text/plain": [
       "      Id DistrictId  Rooms      Square  LifeSquare  KitchenSquare  Floor  \\\n",
       "0  11809         27      3  115.027313   31.274471           10.0      4   \n",
       "1   3013         22      1   39.832523   23.169222            8.0      7   \n",
       "2   8215          1      3   78.342216   47.671970           10.0      2   \n",
       "\n",
       "   HouseFloor  HouseYear  Ecology_1  ... Social_2 Social_3  Helthcare_2  \\\n",
       "0        10.0       2014   0.075424  ...     3097        0            0   \n",
       "1         8.0       1966   0.118537  ...     6207        1            1   \n",
       "2        17.0       1988   0.025609  ...     5261        0            3   \n",
       "\n",
       "   Shops_1  Shops_2          Price  Social_3_anomaly bag_floor  \\\n",
       "0        0        B  305018.875000                 0         0   \n",
       "1        0        B  177734.546875                 0         0   \n",
       "2        1        B  282078.718750                 0         0   \n",
       "\n",
       "   LifeSquareFrac  KitchenSquareFrac  \n",
       "0        0.271887           0.086936  \n",
       "1        0.581666           0.200841  \n",
       "2        0.608509           0.127645  \n",
       "\n",
       "[3 rows x 23 columns]"
      ]
     },
     "execution_count": 817,
     "metadata": {},
     "output_type": "execute_result"
    }
   ],
   "source": [
    "df['LifeSquareFrac'] = df['LifeSquare'] / df['Square']\n",
    "df['KitchenSquareFrac'] = df['KitchenSquare'] / df['Square']\n",
    "df.head(3)"
   ]
  },
  {
   "cell_type": "code",
   "execution_count": null,
   "id": "31cfadf9",
   "metadata": {},
   "outputs": [],
   "source": []
  },
  {
   "cell_type": "code",
   "execution_count": 820,
   "id": "83f0ca95",
   "metadata": {},
   "outputs": [
    {
     "data": {
      "text/html": [
       "<div>\n",
       "<style scoped>\n",
       "    .dataframe tbody tr th:only-of-type {\n",
       "        vertical-align: middle;\n",
       "    }\n",
       "\n",
       "    .dataframe tbody tr th {\n",
       "        vertical-align: top;\n",
       "    }\n",
       "\n",
       "    .dataframe thead th {\n",
       "        text-align: right;\n",
       "    }\n",
       "</style>\n",
       "<table border=\"1\" class=\"dataframe\">\n",
       "  <thead>\n",
       "    <tr style=\"text-align: right;\">\n",
       "      <th></th>\n",
       "      <th>Rooms</th>\n",
       "      <th>Square</th>\n",
       "      <th>LifeSquare</th>\n",
       "      <th>KitchenSquare</th>\n",
       "      <th>Floor</th>\n",
       "      <th>HouseFloor</th>\n",
       "      <th>HouseYear</th>\n",
       "      <th>Ecology_1</th>\n",
       "      <th>Ecology_2</th>\n",
       "      <th>Ecology_3</th>\n",
       "      <th>Social_1</th>\n",
       "      <th>Social_2</th>\n",
       "      <th>Social_3</th>\n",
       "      <th>Helthcare_2</th>\n",
       "      <th>Shops_1</th>\n",
       "      <th>Price</th>\n",
       "      <th>Social_3_anomaly</th>\n",
       "      <th>bag_floor</th>\n",
       "      <th>LifeSquareFrac</th>\n",
       "      <th>KitchenSquareFrac</th>\n",
       "    </tr>\n",
       "  </thead>\n",
       "  <tbody>\n",
       "    <tr>\n",
       "      <th>count</th>\n",
       "      <td>10000.000000</td>\n",
       "      <td>10000.000000</td>\n",
       "      <td>10000.000000</td>\n",
       "      <td>10000.000000</td>\n",
       "      <td>10000.000000</td>\n",
       "      <td>10000.000000</td>\n",
       "      <td>10000.000000</td>\n",
       "      <td>10000.000000</td>\n",
       "      <td>10000.000000</td>\n",
       "      <td>10000.000000</td>\n",
       "      <td>10000.000000</td>\n",
       "      <td>10000.000000</td>\n",
       "      <td>10000.000000</td>\n",
       "      <td>10000.000000</td>\n",
       "      <td>10000.000000</td>\n",
       "      <td>10000.000000</td>\n",
       "      <td>10000.000000</td>\n",
       "      <td>10000.000000</td>\n",
       "      <td>10000.000000</td>\n",
       "      <td>10000.000000</td>\n",
       "    </tr>\n",
       "    <tr>\n",
       "      <th>mean</th>\n",
       "      <td>1.888800</td>\n",
       "      <td>56.202213</td>\n",
       "      <td>32.408596</td>\n",
       "      <td>7.348500</td>\n",
       "      <td>7.399800</td>\n",
       "      <td>12.959100</td>\n",
       "      <td>1984.863800</td>\n",
       "      <td>0.112456</td>\n",
       "      <td>0.009700</td>\n",
       "      <td>0.027500</td>\n",
       "      <td>24.687000</td>\n",
       "      <td>5352.157400</td>\n",
       "      <td>8.039200</td>\n",
       "      <td>1.319500</td>\n",
       "      <td>4.231300</td>\n",
       "      <td>214138.937500</td>\n",
       "      <td>0.024500</td>\n",
       "      <td>0.130700</td>\n",
       "      <td>0.592020</td>\n",
       "      <td>0.140159</td>\n",
       "    </tr>\n",
       "    <tr>\n",
       "      <th>std</th>\n",
       "      <td>0.812096</td>\n",
       "      <td>18.936783</td>\n",
       "      <td>10.206590</td>\n",
       "      <td>2.255189</td>\n",
       "      <td>5.033596</td>\n",
       "      <td>6.443573</td>\n",
       "      <td>18.409979</td>\n",
       "      <td>0.109964</td>\n",
       "      <td>0.098015</td>\n",
       "      <td>0.163543</td>\n",
       "      <td>17.532614</td>\n",
       "      <td>4006.799803</td>\n",
       "      <td>23.831875</td>\n",
       "      <td>1.493601</td>\n",
       "      <td>4.806341</td>\n",
       "      <td>92872.273438</td>\n",
       "      <td>0.154603</td>\n",
       "      <td>0.337089</td>\n",
       "      <td>0.124542</td>\n",
       "      <td>0.048663</td>\n",
       "    </tr>\n",
       "    <tr>\n",
       "      <th>min</th>\n",
       "      <td>1.000000</td>\n",
       "      <td>13.784864</td>\n",
       "      <td>5.735331</td>\n",
       "      <td>3.000000</td>\n",
       "      <td>1.000000</td>\n",
       "      <td>1.000000</td>\n",
       "      <td>1910.000000</td>\n",
       "      <td>0.000000</td>\n",
       "      <td>0.000000</td>\n",
       "      <td>0.000000</td>\n",
       "      <td>0.000000</td>\n",
       "      <td>168.000000</td>\n",
       "      <td>0.000000</td>\n",
       "      <td>0.000000</td>\n",
       "      <td>0.000000</td>\n",
       "      <td>59174.777344</td>\n",
       "      <td>0.000000</td>\n",
       "      <td>0.000000</td>\n",
       "      <td>0.046974</td>\n",
       "      <td>0.027348</td>\n",
       "    </tr>\n",
       "    <tr>\n",
       "      <th>25%</th>\n",
       "      <td>1.000000</td>\n",
       "      <td>41.794393</td>\n",
       "      <td>24.690284</td>\n",
       "      <td>6.000000</td>\n",
       "      <td>3.000000</td>\n",
       "      <td>9.000000</td>\n",
       "      <td>1974.000000</td>\n",
       "      <td>0.017647</td>\n",
       "      <td>0.000000</td>\n",
       "      <td>0.000000</td>\n",
       "      <td>6.000000</td>\n",
       "      <td>1564.000000</td>\n",
       "      <td>0.000000</td>\n",
       "      <td>0.000000</td>\n",
       "      <td>1.000000</td>\n",
       "      <td>153872.628906</td>\n",
       "      <td>0.000000</td>\n",
       "      <td>0.000000</td>\n",
       "      <td>0.522677</td>\n",
       "      <td>0.104265</td>\n",
       "    </tr>\n",
       "    <tr>\n",
       "      <th>50%</th>\n",
       "      <td>2.000000</td>\n",
       "      <td>52.513309</td>\n",
       "      <td>31.274471</td>\n",
       "      <td>6.000000</td>\n",
       "      <td>6.000000</td>\n",
       "      <td>13.000000</td>\n",
       "      <td>1977.000000</td>\n",
       "      <td>0.075424</td>\n",
       "      <td>0.000000</td>\n",
       "      <td>0.000000</td>\n",
       "      <td>25.000000</td>\n",
       "      <td>5285.000000</td>\n",
       "      <td>2.000000</td>\n",
       "      <td>1.000000</td>\n",
       "      <td>3.000000</td>\n",
       "      <td>192269.648438</td>\n",
       "      <td>0.000000</td>\n",
       "      <td>0.000000</td>\n",
       "      <td>0.597488</td>\n",
       "      <td>0.134038</td>\n",
       "    </tr>\n",
       "    <tr>\n",
       "      <th>75%</th>\n",
       "      <td>2.000000</td>\n",
       "      <td>65.889257</td>\n",
       "      <td>35.888227</td>\n",
       "      <td>9.000000</td>\n",
       "      <td>11.000000</td>\n",
       "      <td>17.000000</td>\n",
       "      <td>2001.000000</td>\n",
       "      <td>0.188784</td>\n",
       "      <td>0.000000</td>\n",
       "      <td>0.000000</td>\n",
       "      <td>36.000000</td>\n",
       "      <td>7227.000000</td>\n",
       "      <td>5.000000</td>\n",
       "      <td>2.000000</td>\n",
       "      <td>6.000000</td>\n",
       "      <td>249135.460938</td>\n",
       "      <td>0.000000</td>\n",
       "      <td>0.000000</td>\n",
       "      <td>0.667200</td>\n",
       "      <td>0.166424</td>\n",
       "    </tr>\n",
       "    <tr>\n",
       "      <th>max</th>\n",
       "      <td>6.000000</td>\n",
       "      <td>212.932358</td>\n",
       "      <td>67.595032</td>\n",
       "      <td>30.000000</td>\n",
       "      <td>42.000000</td>\n",
       "      <td>117.000000</td>\n",
       "      <td>2020.000000</td>\n",
       "      <td>0.437885</td>\n",
       "      <td>1.000000</td>\n",
       "      <td>1.000000</td>\n",
       "      <td>74.000000</td>\n",
       "      <td>19083.000000</td>\n",
       "      <td>141.000000</td>\n",
       "      <td>6.000000</td>\n",
       "      <td>23.000000</td>\n",
       "      <td>633233.437500</td>\n",
       "      <td>1.000000</td>\n",
       "      <td>1.000000</td>\n",
       "      <td>2.268754</td>\n",
       "      <td>0.507803</td>\n",
       "    </tr>\n",
       "  </tbody>\n",
       "</table>\n",
       "</div>"
      ],
      "text/plain": [
       "              Rooms        Square    LifeSquare  KitchenSquare         Floor  \\\n",
       "count  10000.000000  10000.000000  10000.000000   10000.000000  10000.000000   \n",
       "mean       1.888800     56.202213     32.408596       7.348500      7.399800   \n",
       "std        0.812096     18.936783     10.206590       2.255189      5.033596   \n",
       "min        1.000000     13.784864      5.735331       3.000000      1.000000   \n",
       "25%        1.000000     41.794393     24.690284       6.000000      3.000000   \n",
       "50%        2.000000     52.513309     31.274471       6.000000      6.000000   \n",
       "75%        2.000000     65.889257     35.888227       9.000000     11.000000   \n",
       "max        6.000000    212.932358     67.595032      30.000000     42.000000   \n",
       "\n",
       "         HouseFloor     HouseYear     Ecology_1     Ecology_2     Ecology_3  \\\n",
       "count  10000.000000  10000.000000  10000.000000  10000.000000  10000.000000   \n",
       "mean      12.959100   1984.863800      0.112456      0.009700      0.027500   \n",
       "std        6.443573     18.409979      0.109964      0.098015      0.163543   \n",
       "min        1.000000   1910.000000      0.000000      0.000000      0.000000   \n",
       "25%        9.000000   1974.000000      0.017647      0.000000      0.000000   \n",
       "50%       13.000000   1977.000000      0.075424      0.000000      0.000000   \n",
       "75%       17.000000   2001.000000      0.188784      0.000000      0.000000   \n",
       "max      117.000000   2020.000000      0.437885      1.000000      1.000000   \n",
       "\n",
       "           Social_1      Social_2      Social_3   Helthcare_2       Shops_1  \\\n",
       "count  10000.000000  10000.000000  10000.000000  10000.000000  10000.000000   \n",
       "mean      24.687000   5352.157400      8.039200      1.319500      4.231300   \n",
       "std       17.532614   4006.799803     23.831875      1.493601      4.806341   \n",
       "min        0.000000    168.000000      0.000000      0.000000      0.000000   \n",
       "25%        6.000000   1564.000000      0.000000      0.000000      1.000000   \n",
       "50%       25.000000   5285.000000      2.000000      1.000000      3.000000   \n",
       "75%       36.000000   7227.000000      5.000000      2.000000      6.000000   \n",
       "max       74.000000  19083.000000    141.000000      6.000000     23.000000   \n",
       "\n",
       "               Price  Social_3_anomaly     bag_floor  LifeSquareFrac  \\\n",
       "count   10000.000000      10000.000000  10000.000000    10000.000000   \n",
       "mean   214138.937500          0.024500      0.130700        0.592020   \n",
       "std     92872.273438          0.154603      0.337089        0.124542   \n",
       "min     59174.777344          0.000000      0.000000        0.046974   \n",
       "25%    153872.628906          0.000000      0.000000        0.522677   \n",
       "50%    192269.648438          0.000000      0.000000        0.597488   \n",
       "75%    249135.460938          0.000000      0.000000        0.667200   \n",
       "max    633233.437500          1.000000      1.000000        2.268754   \n",
       "\n",
       "       KitchenSquareFrac  \n",
       "count       10000.000000  \n",
       "mean            0.140159  \n",
       "std             0.048663  \n",
       "min             0.027348  \n",
       "25%             0.104265  \n",
       "50%             0.134038  \n",
       "75%             0.166424  \n",
       "max             0.507803  "
      ]
     },
     "execution_count": 820,
     "metadata": {},
     "output_type": "execute_result"
    }
   ],
   "source": [
    "df.describe()"
   ]
  },
  {
   "cell_type": "code",
   "execution_count": 821,
   "id": "a1f65b8e",
   "metadata": {},
   "outputs": [
    {
     "name": "stdout",
     "output_type": "stream",
     "text": [
      "<class 'pandas.core.frame.DataFrame'>\n",
      "RangeIndex: 10000 entries, 0 to 9999\n",
      "Data columns (total 23 columns):\n",
      " #   Column             Non-Null Count  Dtype   \n",
      "---  ------             --------------  -----   \n",
      " 0   Id                 10000 non-null  object  \n",
      " 1   DistrictId         10000 non-null  category\n",
      " 2   Rooms              10000 non-null  int64   \n",
      " 3   Square             10000 non-null  float32 \n",
      " 4   LifeSquare         10000 non-null  float32 \n",
      " 5   KitchenSquare      10000 non-null  float32 \n",
      " 6   Floor              10000 non-null  int64   \n",
      " 7   HouseFloor         10000 non-null  float32 \n",
      " 8   HouseYear          10000 non-null  int32   \n",
      " 9   Ecology_1          10000 non-null  float32 \n",
      " 10  Ecology_2          10000 non-null  int64   \n",
      " 11  Ecology_3          10000 non-null  int64   \n",
      " 12  Social_1           10000 non-null  int8    \n",
      " 13  Social_2           10000 non-null  int16   \n",
      " 14  Social_3           10000 non-null  int16   \n",
      " 15  Helthcare_2        10000 non-null  int8    \n",
      " 16  Shops_1            10000 non-null  int8    \n",
      " 17  Shops_2            10000 non-null  category\n",
      " 18  Price              10000 non-null  float32 \n",
      " 19  Social_3_anomaly   10000 non-null  int64   \n",
      " 20  bag_floor          10000 non-null  int64   \n",
      " 21  LifeSquareFrac     10000 non-null  float32 \n",
      " 22  KitchenSquareFrac  10000 non-null  float32 \n",
      "dtypes: category(2), float32(8), int16(2), int32(1), int64(6), int8(3), object(1)\n",
      "memory usage: 1006.0+ KB\n"
     ]
    }
   ],
   "source": [
    "df.info()"
   ]
  },
  {
   "cell_type": "code",
   "execution_count": null,
   "id": "88f8bd73",
   "metadata": {},
   "outputs": [],
   "source": []
  },
  {
   "cell_type": "code",
   "execution_count": null,
   "id": "4f9e04c0",
   "metadata": {},
   "outputs": [],
   "source": []
  },
  {
   "cell_type": "code",
   "execution_count": null,
   "id": "ab0eadc5",
   "metadata": {},
   "outputs": [],
   "source": []
  }
 ],
 "metadata": {
  "kernelspec": {
   "display_name": "Python 3 (ipykernel)",
   "language": "python",
   "name": "python3"
  },
  "language_info": {
   "codemirror_mode": {
    "name": "ipython",
    "version": 3
   },
   "file_extension": ".py",
   "mimetype": "text/x-python",
   "name": "python",
   "nbconvert_exporter": "python",
   "pygments_lexer": "ipython3",
   "version": "3.9.7"
  }
 },
 "nbformat": 4,
 "nbformat_minor": 5
}
