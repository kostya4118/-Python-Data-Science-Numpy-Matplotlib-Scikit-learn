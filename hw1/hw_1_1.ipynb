{
 "cells": [
  {
   "cell_type": "markdown",
   "id": "a26ecee0",
   "metadata": {},
   "source": [
    "# Тема “Вычисления с помощью Numpy”"
   ]
  },
  {
   "cell_type": "markdown",
   "id": "18bb387b",
   "metadata": {},
   "source": [
    "### Задание 1\n",
    "\n",
    "Импортируйте библиотеку Numpy и дайте ей псевдоним np.\n",
    "\n",
    "Создайте массив Numpy под названием a размером 5x2, то есть состоящий из 5 строк и 2 столбцов. Первый столбец должен содержать числа 1, 2, 3, 3, 1, а второй - числа 6, 8, 11, 10, 7. Будем считать, что каждый столбец - это признак, а строка - наблюдение. Затем найдите среднее значение по каждому признаку, используя метод mean массива Numpy. Результат запишите в массив mean_a, в нем должно быть 2 элемента.\n"
   ]
  },
  {
   "cell_type": "code",
   "execution_count": 48,
   "id": "d12af006",
   "metadata": {},
   "outputs": [],
   "source": [
    "import numpy as np\n",
    "\n",
    "a = np.array([[1, 6], [2, 8], [3, 11], [3, 10], [1, 7]])"
   ]
  },
  {
   "cell_type": "code",
   "execution_count": 49,
   "id": "6de1876b",
   "metadata": {},
   "outputs": [
    {
     "name": "stdout",
     "output_type": "stream",
     "text": [
      "[[ 1  6]\n",
      " [ 2  8]\n",
      " [ 3 11]\n",
      " [ 3 10]\n",
      " [ 1  7]]\n",
      "Размерность a: 2\n",
      "Форма a: (5, 2)\n"
     ]
    }
   ],
   "source": [
    "print(a)\n",
    "\n",
    "print(f'Размерность a: {a.ndim}')\n",
    "\n",
    "print(f'Форма a: {a.shape}')"
   ]
  },
  {
   "cell_type": "code",
   "execution_count": 50,
   "id": "b440d09a",
   "metadata": {},
   "outputs": [
    {
     "name": "stdout",
     "output_type": "stream",
     "text": [
      "Средние значения признаков: [2.  8.4]\n"
     ]
    }
   ],
   "source": [
    "mean_a = a.mean(axis=0)\n",
    "\n",
    "print(f'Средние значения признаков: {mean_a}')"
   ]
  },
  {
   "cell_type": "markdown",
   "id": "96ceff14",
   "metadata": {},
   "source": [
    "### Задание 2\n",
    "\n",
    "Вычислите массив a_centered, отняв от значений массива “а” средние значения соответствующих признаков, содержащиеся в массиве mean_a. Вычисление должно производиться в одно действие. Получившийся массив должен иметь размер 5x2."
   ]
  },
  {
   "cell_type": "code",
   "execution_count": 51,
   "id": "0f4aec36",
   "metadata": {},
   "outputs": [
    {
     "name": "stdout",
     "output_type": "stream",
     "text": [
      "[[-1.  -2.4]\n",
      " [ 0.  -0.4]\n",
      " [ 1.   2.6]\n",
      " [ 1.   1.6]\n",
      " [-1.  -1.4]]\n",
      "\n",
      "Форма a_centered: (5, 2)\n"
     ]
    }
   ],
   "source": [
    "a_centered = a - mean_a\n",
    "\n",
    "print(a_centered)\n",
    "\n",
    "print(f'\\nФорма a_centered: {a_centered.shape}')"
   ]
  },
  {
   "cell_type": "markdown",
   "id": "53fa2e15",
   "metadata": {},
   "source": [
    "### Задание 3\n",
    "\n",
    "Найдите скалярное произведение столбцов массива a_centered. В результате должна получиться величина a_centered_sp. Затем поделите a_centered_sp на N-1, где N - число наблюдений."
   ]
  },
  {
   "cell_type": "code",
   "execution_count": 52,
   "id": "76f6327a",
   "metadata": {},
   "outputs": [
    {
     "name": "stdout",
     "output_type": "stream",
     "text": [
      "Скалярное произведение столбцов массива a_centered: 8.0\n"
     ]
    }
   ],
   "source": [
    "a_centered_sp = np.dot(a_centered[:, 0], a_centered[:, 1])\n",
    "\n",
    "print(f'Скалярное произведение столбцов массива a_centered: {a_centered_sp}')"
   ]
  },
  {
   "cell_type": "code",
   "execution_count": 53,
   "id": "11544888",
   "metadata": {},
   "outputs": [
    {
     "name": "stdout",
     "output_type": "stream",
     "text": [
      "Результат деления a_centered_sp на N-1: 2.0\n"
     ]
    }
   ],
   "source": [
    "res = a_centered_sp / (a.shape[0] - 1)\n",
    "\n",
    "print(f'Результат деления a_centered_sp на N-1: {res}')"
   ]
  },
  {
   "cell_type": "markdown",
   "id": "ba6833d9",
   "metadata": {},
   "source": [
    "### Задание 4*\n",
    "\n",
    "Число, которое мы получили в конце задания 3 является ковариацией двух признаков, содержащихся в массиве “а”. В задании 4 мы делили сумму произведений центрированных признаков на N-1, а не на N, поэтому полученная нами величина является несмещенной оценкой ковариации.\n",
    "Подробнее узнать о ковариации можно здесь:\n",
    "Выборочная ковариация и выборочная дисперсия — Студопедия\n",
    "В этом задании проверьте получившееся число, вычислив ковариацию еще одним способом - с помощью функции np.cov. В качестве аргумента m функция np.cov должна принимать транспонированный массив “a”. В получившейся ковариационной матрице (массив Numpy размером 2x2) искомое значение ковариации будет равно элементу в строке с индексом 0 и столбце с индексом 1."
   ]
  },
  {
   "cell_type": "code",
   "execution_count": 54,
   "id": "29caf9a9",
   "metadata": {},
   "outputs": [
    {
     "data": {
      "text/plain": [
       "2.0"
      ]
     },
     "execution_count": 54,
     "metadata": {},
     "output_type": "execute_result"
    }
   ],
   "source": [
    "res2 = np.cov(a.T)\n",
    "\n",
    "res2[0, 1]"
   ]
  },
  {
   "cell_type": "code",
   "execution_count": 55,
   "id": "45c33328",
   "metadata": {},
   "outputs": [
    {
     "data": {
      "text/plain": [
       "True"
      ]
     },
     "execution_count": 55,
     "metadata": {},
     "output_type": "execute_result"
    }
   ],
   "source": [
    "res2[0, 1] == res"
   ]
  },
  {
   "cell_type": "markdown",
   "id": "f6ccb440",
   "metadata": {},
   "source": [
    "### Задание 5**\n",
    "Необходимо реализовать метод сортировки целых (int) элементов. Метод должен быть реализован без использования “готовых” методов ( sorted, np.sort() ).\n"
   ]
  },
  {
   "cell_type": "code",
   "execution_count": 63,
   "id": "9191e6e6",
   "metadata": {},
   "outputs": [
    {
     "data": {
      "text/plain": [
       "array([62, 42, 65, 60, 30, 60, 19, 37, 26,  3, 54, 74, 14, 33, 39])"
      ]
     },
     "execution_count": 63,
     "metadata": {},
     "output_type": "execute_result"
    }
   ],
   "source": [
    "a1 = np.random.randint(0, 76, 15)\n",
    "a1"
   ]
  },
  {
   "cell_type": "code",
   "execution_count": 58,
   "id": "9b54f47d",
   "metadata": {},
   "outputs": [],
   "source": [
    "def min_to_max(a):\n",
    "    a = list(a)\n",
    "    b = []\n",
    "    for i in range(len(a.copy())):\n",
    "        x = min(a)\n",
    "        b.append(x)\n",
    "        a.remove(x)\n",
    "    return np.array(b)"
   ]
  },
  {
   "cell_type": "code",
   "execution_count": 64,
   "id": "35d5d1fd",
   "metadata": {},
   "outputs": [
    {
     "data": {
      "text/plain": [
       "array([ 3, 14, 19, 26, 30, 33, 37, 39, 42, 54, 60, 60, 62, 65, 74])"
      ]
     },
     "execution_count": 64,
     "metadata": {},
     "output_type": "execute_result"
    }
   ],
   "source": [
    "min_to_max(a1)"
   ]
  },
  {
   "cell_type": "code",
   "execution_count": null,
   "id": "126b1601",
   "metadata": {},
   "outputs": [],
   "source": []
  }
 ],
 "metadata": {
  "kernelspec": {
   "display_name": "Python 3 (ipykernel)",
   "language": "python",
   "name": "python3"
  },
  "language_info": {
   "codemirror_mode": {
    "name": "ipython",
    "version": 3
   },
   "file_extension": ".py",
   "mimetype": "text/x-python",
   "name": "python",
   "nbconvert_exporter": "python",
   "pygments_lexer": "ipython3",
   "version": "3.9.4"
  }
 },
 "nbformat": 4,
 "nbformat_minor": 5
}
