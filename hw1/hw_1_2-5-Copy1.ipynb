{
 "cells": [
  {
   "cell_type": "markdown",
   "id": "3d60335b",
   "metadata": {},
   "source": [
    "# Тема “Работа с данными в Pandas”"
   ]
  },
  {
   "cell_type": "markdown",
   "id": "0dca9e85",
   "metadata": {},
   "source": [
    "### Задание 5**\n",
    "Вычисление метрик для мониторинга.\n",
    "\n",
    "    суммарная выручка \n",
    "    кол-во покупок \n",
    "    средний чек \n",
    "    среднее кол-во товаров в покупке\n",
    "    \n",
    "Дополнительно добавим возможность фильтровать данные по различным параметрам. Это может быть полезно чтобы посмотреть как меняются продажи в двух группах, или в какой-то отдельной категории товаров.\n",
    "\n",
    "На вход функции будет подаваться датафрейм с данными о продажах, словарь с фильтрами и период, за который нужно посчитать метрики.\n",
    "Функция должна вернуть датафрейм, в индексах которого будут все даты из указанного периода отсортированные по возрастанию, а столбцы - метрики \\\n",
    "['revenue', 'number_purchases', 'average_check', 'average_number_items']. \\\n",
    "Формат данных столбцов - float, формат данных индекса - datetime64[ns].\n",
    "Если в какие-то дни не было продаж, то нужно заполнить пропуск нулём.\n"
   ]
  },
  {
   "cell_type": "code",
   "execution_count": null,
   "id": "3223e5f2",
   "metadata": {},
   "outputs": [],
   "source": [
    "def calculate_sales_metrics(df, cost_name, date_name, sale_id_name, period, filters=None):\n",
    "   \"\"\"Вычисляет метрики по продажам.\n",
    "   df - pd.DataFrame, датафрейм с данными. Пример\n",
    "       pd.DataFrame(\n",
    "           [[820, '2021-04-03', 1, 213]],\n",
    "           columns=['cost', 'date', 'sale_id', 'shop_id']\n",
    "       )\n",
    "   cost_name - str, название столбца с стоимостью товара\n",
    "   date_name - str, название столбца с датой покупки\n",
    "   sale_id_name - str, название столбца с идентификатором покупки (в одной покупке может быть несколько товаров)\n",
    "   period - dict, словарь с датами начала и конца периода пилота.\n",
    "       Пример, {'begin': '2020-01-01', 'end': '2020-01-08'}.\n",
    "       Дата начала периода входит в полуинтервал, а дата окончания нет,\n",
    "       то есть '2020-01-01' <= date < '2020-01-08'.\n",
    "   filters - dict, словарь с фильтрами. Ключ - название поля, по которому фильтруем, значение - список значений,\n",
    "       которые нужно оставить. Например, {'user_id': [111, 123, 943]}.\n",
    "       Если None, то фильтровать не нужно.\n",
    "   return - pd.DataFrame, в индексах все даты из указанного периода отсортированные по возрастанию,\n",
    "       столбцы - метрики ['revenue', 'number_purchases', 'average_check', 'average_number_items'].\n",
    "       Формат данных столбцов - float, формат данных индекса - datetime64[ns].\n",
    "   \"\"\"\n",
    "   # YOUR_CODE_HERE\n"
   ]
  },
  {
   "cell_type": "code",
   "execution_count": 62,
   "id": "70a84531",
   "metadata": {},
   "outputs": [],
   "source": [
    "import pandas as pd\n",
    "\n",
    "def metrics(df, cost_name, date_name, sale_id_name, period, filters=None):\n",
    "\n",
    "    df[date_name] = pd.to_datetime(df[date_name])\n",
    "    df = df.sort_values(by=date_name)\n",
    "    data = df.loc[(df[date_name] >= pd.to_datetime(period['begin'])) & (df[date_name] < pd.to_datetime(period['end']))]\n",
    "\n",
    "    if filters:\n",
    "        for key, val in filters.items():\n",
    "            data = data.query(f\"{key} in {val}\")\n",
    "\n",
    "    stat = pd.DataFrame(data.groupby(date_name).agg({cost_name : ['sum', 'count'], sale_id_name : ['nunique']}))\n",
    "    stat.columns = ['revenue', 'count', 'number_purchases']\n",
    "    stat['average_check'] = stat['revenue'] / stat['number_purchases']\n",
    "    stat['average_number_items'] = stat['count'] / stat['number_purchases']\n",
    "    stat.index.name = None\n",
    "    stat.drop(\"count\", axis=1, inplace=True)\n",
    "\n",
    "    return stat"
   ]
  },
  {
   "cell_type": "code",
   "execution_count": 63,
   "id": "396cf22d",
   "metadata": {},
   "outputs": [],
   "source": [
    "data = pd.DataFrame(\n",
    "            [[820, '2021-04-29', 1, 213],\n",
    "             [100, '2021-04-29', 1, 213],\n",
    "             [550, '2021-04-29', 2, 213],\n",
    "             [600, '2021-04-30', 3, 113],\n",
    "             [700, '2021-05-01', 4, 893]],\n",
    "            columns=['cost', 'date', 'sale_id', 'shop_id']\n",
    "        )"
   ]
  },
  {
   "cell_type": "code",
   "execution_count": 64,
   "id": "f85d3ae4",
   "metadata": {},
   "outputs": [
    {
     "data": {
      "text/html": [
       "<div>\n",
       "<style scoped>\n",
       "    .dataframe tbody tr th:only-of-type {\n",
       "        vertical-align: middle;\n",
       "    }\n",
       "\n",
       "    .dataframe tbody tr th {\n",
       "        vertical-align: top;\n",
       "    }\n",
       "\n",
       "    .dataframe thead th {\n",
       "        text-align: right;\n",
       "    }\n",
       "</style>\n",
       "<table border=\"1\" class=\"dataframe\">\n",
       "  <thead>\n",
       "    <tr style=\"text-align: right;\">\n",
       "      <th></th>\n",
       "      <th>revenue</th>\n",
       "      <th>number_purchases</th>\n",
       "      <th>average_check</th>\n",
       "      <th>average_number_items</th>\n",
       "    </tr>\n",
       "  </thead>\n",
       "  <tbody>\n",
       "    <tr>\n",
       "      <th>2021-04-29</th>\n",
       "      <td>920</td>\n",
       "      <td>1</td>\n",
       "      <td>920.0</td>\n",
       "      <td>2.0</td>\n",
       "    </tr>\n",
       "    <tr>\n",
       "      <th>2021-04-30</th>\n",
       "      <td>600</td>\n",
       "      <td>1</td>\n",
       "      <td>600.0</td>\n",
       "      <td>1.0</td>\n",
       "    </tr>\n",
       "  </tbody>\n",
       "</table>\n",
       "</div>"
      ],
      "text/plain": [
       "            revenue  number_purchases  average_check  average_number_items\n",
       "2021-04-29      920                 1          920.0                   2.0\n",
       "2021-04-30      600                 1          600.0                   1.0"
      ]
     },
     "execution_count": 64,
     "metadata": {},
     "output_type": "execute_result"
    }
   ],
   "source": [
    "metrics(data, 'cost', 'date', 'sale_id', \n",
    "                        period = {'begin': '2021-04-29', 'end': '2021-05-03'},\n",
    "                       filters={'sale_id': [1, 3]})"
   ]
  },
  {
   "cell_type": "code",
   "execution_count": 65,
   "id": "9f7cacda",
   "metadata": {},
   "outputs": [
    {
     "data": {
      "text/html": [
       "<div>\n",
       "<style scoped>\n",
       "    .dataframe tbody tr th:only-of-type {\n",
       "        vertical-align: middle;\n",
       "    }\n",
       "\n",
       "    .dataframe tbody tr th {\n",
       "        vertical-align: top;\n",
       "    }\n",
       "\n",
       "    .dataframe thead th {\n",
       "        text-align: right;\n",
       "    }\n",
       "</style>\n",
       "<table border=\"1\" class=\"dataframe\">\n",
       "  <thead>\n",
       "    <tr style=\"text-align: right;\">\n",
       "      <th></th>\n",
       "      <th>revenue</th>\n",
       "      <th>number_purchases</th>\n",
       "      <th>average_check</th>\n",
       "      <th>average_number_items</th>\n",
       "    </tr>\n",
       "  </thead>\n",
       "  <tbody>\n",
       "    <tr>\n",
       "      <th>2021-04-29</th>\n",
       "      <td>1470</td>\n",
       "      <td>2</td>\n",
       "      <td>735.0</td>\n",
       "      <td>1.5</td>\n",
       "    </tr>\n",
       "    <tr>\n",
       "      <th>2021-04-30</th>\n",
       "      <td>600</td>\n",
       "      <td>1</td>\n",
       "      <td>600.0</td>\n",
       "      <td>1.0</td>\n",
       "    </tr>\n",
       "  </tbody>\n",
       "</table>\n",
       "</div>"
      ],
      "text/plain": [
       "            revenue  number_purchases  average_check  average_number_items\n",
       "2021-04-29     1470                 2          735.0                   1.5\n",
       "2021-04-30      600                 1          600.0                   1.0"
      ]
     },
     "execution_count": 65,
     "metadata": {},
     "output_type": "execute_result"
    }
   ],
   "source": [
    "metrics(data, 'cost', 'date', 'sale_id', \n",
    "                        period = {'begin': '2021-04-29', 'end': '2021-05-01'})"
   ]
  },
  {
   "cell_type": "code",
   "execution_count": null,
   "id": "209b5e82",
   "metadata": {},
   "outputs": [],
   "source": []
  }
 ],
 "metadata": {
  "kernelspec": {
   "display_name": "Python 3 (ipykernel)",
   "language": "python",
   "name": "python3"
  },
  "language_info": {
   "codemirror_mode": {
    "name": "ipython",
    "version": 3
   },
   "file_extension": ".py",
   "mimetype": "text/x-python",
   "name": "python",
   "nbconvert_exporter": "python",
   "pygments_lexer": "ipython3",
   "version": "3.9.4"
  }
 },
 "nbformat": 4,
 "nbformat_minor": 5
}
